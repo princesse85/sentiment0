{
  "cells": [
    {
      "cell_type": "markdown",
      "metadata": {
        "id": "view-in-github",
        "colab_type": "text"
      },
      "source": [
        "<a href=\"https://colab.research.google.com/github/princesse85/sentiment0/blob/main/sentiment1.ipynb\" target=\"_parent\"><img src=\"https://colab.research.google.com/assets/colab-badge.svg\" alt=\"Open In Colab\"/></a>"
      ]
    },
    {
      "cell_type": "code",
      "execution_count": 4,
      "id": "6141b896",
      "metadata": {
        "colab": {
          "base_uri": "https://localhost:8080/"
        },
        "id": "6141b896",
        "outputId": "3437cc08-c8da-439b-f2aa-babf2d67b550"
      },
      "outputs": [
        {
          "output_type": "stream",
          "name": "stderr",
          "text": [
            "[nltk_data] Downloading package stopwords to /root/nltk_data...\n",
            "[nltk_data]   Package stopwords is already up-to-date!\n",
            "[nltk_data] Downloading package punkt_tab to /root/nltk_data...\n",
            "[nltk_data]   Package punkt_tab is already up-to-date!\n"
          ]
        }
      ],
      "source": [
        "\n",
        "import numpy as np\n",
        "import pandas as pd\n",
        "\n",
        "# Data Visualisation\n",
        "import seaborn as sns\n",
        "import matplotlib.pyplot as plt\n",
        "import plotly.express as px\n",
        "\n",
        "# NLP and Word Cloud\n",
        "import nltk\n",
        "nltk.download('stopwords')\n",
        "nltk.download('punkt_tab')\n",
        "from sklearn.feature_extraction.text import TfidfVectorizer\n",
        "from wordcloud import WordCloud, STOPWORDS\n",
        "from nltk.stem import WordNetLemmatizer\n",
        "from nltk.tokenize import word_tokenize\n",
        "from nltk import pos_tag\n",
        "from nltk.corpus import stopwords\n",
        "\n",
        "# Standard library imports\n",
        "from string import punctuation\n",
        "import re, string, unicodedata\n",
        "import pandas as pd\n",
        "# SKlearn and Evaluation Metrics\n",
        "from sklearn.metrics import classification_report,confusion_matrix,accuracy_score,f1_score\n",
        "from sklearn.model_selection import train_test_split\n",
        "\n",
        "# To Supress Warning\n",
        "import warnings\n",
        "warnings.filterwarnings('ignore')\n",
        "# Input data files are available in the read-only \"../input/\" directory\n",
        "# For example, running this (by clicking run or pressing Shift+Enter) will list all files under the input directory\n",
        "\n"
      ]
    },
    {
      "cell_type": "code",
      "execution_count": 5,
      "id": "xA9yuy9-zWPx",
      "metadata": {
        "colab": {
          "base_uri": "https://localhost:8080/"
        },
        "id": "xA9yuy9-zWPx",
        "outputId": "942417fc-bc2a-4d7a-c8b1-49df92172639"
      },
      "outputs": [
        {
          "output_type": "stream",
          "name": "stdout",
          "text": [
            "Drive already mounted at /content/drive; to attempt to forcibly remount, call drive.mount(\"/content/drive\", force_remount=True).\n"
          ]
        }
      ],
      "source": [
        "from google.colab import drive\n",
        "drive.mount('/content/drive')"
      ]
    },
    {
      "cell_type": "code",
      "execution_count": 6,
      "id": "VvxhegQ40XZz",
      "metadata": {
        "id": "VvxhegQ40XZz"
      },
      "outputs": [],
      "source": [
        "train_dataset = pd.read_csv('/content/e commerce reviews train.csv', low_memory=False)"
      ]
    },
    {
      "cell_type": "code",
      "execution_count": 7,
      "id": "OspF9LUbzg6p",
      "metadata": {
        "id": "OspF9LUbzg6p"
      },
      "outputs": [],
      "source": [
        "test_dataset = pd.read_csv('/content/e commerce reviews test.csv')"
      ]
    },
    {
      "cell_type": "code",
      "execution_count": 8,
      "id": "c24feeb7",
      "metadata": {
        "colab": {
          "base_uri": "https://localhost:8080/",
          "height": 206
        },
        "id": "c24feeb7",
        "outputId": "4264bded-3cc6-42cd-eaf5-9601ea4cf06f"
      },
      "outputs": [
        {
          "output_type": "execute_result",
          "data": {
            "text/plain": [
              "       labels                                               text\n",
              "0  __label__2  Stuning even for the non-gamer: This sound tra...\n",
              "1  __label__2  The best soundtrack ever to anything.: I'm rea...\n",
              "2  __label__2  Amazing!: This soundtrack is my favorite music...\n",
              "3  __label__2  Excellent Soundtrack: I truly like this soundt...\n",
              "4  __label__2  Remember, Pull Your Jaw Off The Floor After He..."
            ],
            "text/html": [
              "\n",
              "  <div id=\"df-31749154-33c2-493d-b618-121fd08fef8f\" class=\"colab-df-container\">\n",
              "    <div>\n",
              "<style scoped>\n",
              "    .dataframe tbody tr th:only-of-type {\n",
              "        vertical-align: middle;\n",
              "    }\n",
              "\n",
              "    .dataframe tbody tr th {\n",
              "        vertical-align: top;\n",
              "    }\n",
              "\n",
              "    .dataframe thead th {\n",
              "        text-align: right;\n",
              "    }\n",
              "</style>\n",
              "<table border=\"1\" class=\"dataframe\">\n",
              "  <thead>\n",
              "    <tr style=\"text-align: right;\">\n",
              "      <th></th>\n",
              "      <th>labels</th>\n",
              "      <th>text</th>\n",
              "    </tr>\n",
              "  </thead>\n",
              "  <tbody>\n",
              "    <tr>\n",
              "      <th>0</th>\n",
              "      <td>__label__2</td>\n",
              "      <td>Stuning even for the non-gamer: This sound tra...</td>\n",
              "    </tr>\n",
              "    <tr>\n",
              "      <th>1</th>\n",
              "      <td>__label__2</td>\n",
              "      <td>The best soundtrack ever to anything.: I'm rea...</td>\n",
              "    </tr>\n",
              "    <tr>\n",
              "      <th>2</th>\n",
              "      <td>__label__2</td>\n",
              "      <td>Amazing!: This soundtrack is my favorite music...</td>\n",
              "    </tr>\n",
              "    <tr>\n",
              "      <th>3</th>\n",
              "      <td>__label__2</td>\n",
              "      <td>Excellent Soundtrack: I truly like this soundt...</td>\n",
              "    </tr>\n",
              "    <tr>\n",
              "      <th>4</th>\n",
              "      <td>__label__2</td>\n",
              "      <td>Remember, Pull Your Jaw Off The Floor After He...</td>\n",
              "    </tr>\n",
              "  </tbody>\n",
              "</table>\n",
              "</div>\n",
              "    <div class=\"colab-df-buttons\">\n",
              "\n",
              "  <div class=\"colab-df-container\">\n",
              "    <button class=\"colab-df-convert\" onclick=\"convertToInteractive('df-31749154-33c2-493d-b618-121fd08fef8f')\"\n",
              "            title=\"Convert this dataframe to an interactive table.\"\n",
              "            style=\"display:none;\">\n",
              "\n",
              "  <svg xmlns=\"http://www.w3.org/2000/svg\" height=\"24px\" viewBox=\"0 -960 960 960\">\n",
              "    <path d=\"M120-120v-720h720v720H120Zm60-500h600v-160H180v160Zm220 220h160v-160H400v160Zm0 220h160v-160H400v160ZM180-400h160v-160H180v160Zm440 0h160v-160H620v160ZM180-180h160v-160H180v160Zm440 0h160v-160H620v160Z\"/>\n",
              "  </svg>\n",
              "    </button>\n",
              "\n",
              "  <style>\n",
              "    .colab-df-container {\n",
              "      display:flex;\n",
              "      gap: 12px;\n",
              "    }\n",
              "\n",
              "    .colab-df-convert {\n",
              "      background-color: #E8F0FE;\n",
              "      border: none;\n",
              "      border-radius: 50%;\n",
              "      cursor: pointer;\n",
              "      display: none;\n",
              "      fill: #1967D2;\n",
              "      height: 32px;\n",
              "      padding: 0 0 0 0;\n",
              "      width: 32px;\n",
              "    }\n",
              "\n",
              "    .colab-df-convert:hover {\n",
              "      background-color: #E2EBFA;\n",
              "      box-shadow: 0px 1px 2px rgba(60, 64, 67, 0.3), 0px 1px 3px 1px rgba(60, 64, 67, 0.15);\n",
              "      fill: #174EA6;\n",
              "    }\n",
              "\n",
              "    .colab-df-buttons div {\n",
              "      margin-bottom: 4px;\n",
              "    }\n",
              "\n",
              "    [theme=dark] .colab-df-convert {\n",
              "      background-color: #3B4455;\n",
              "      fill: #D2E3FC;\n",
              "    }\n",
              "\n",
              "    [theme=dark] .colab-df-convert:hover {\n",
              "      background-color: #434B5C;\n",
              "      box-shadow: 0px 1px 3px 1px rgba(0, 0, 0, 0.15);\n",
              "      filter: drop-shadow(0px 1px 2px rgba(0, 0, 0, 0.3));\n",
              "      fill: #FFFFFF;\n",
              "    }\n",
              "  </style>\n",
              "\n",
              "    <script>\n",
              "      const buttonEl =\n",
              "        document.querySelector('#df-31749154-33c2-493d-b618-121fd08fef8f button.colab-df-convert');\n",
              "      buttonEl.style.display =\n",
              "        google.colab.kernel.accessAllowed ? 'block' : 'none';\n",
              "\n",
              "      async function convertToInteractive(key) {\n",
              "        const element = document.querySelector('#df-31749154-33c2-493d-b618-121fd08fef8f');\n",
              "        const dataTable =\n",
              "          await google.colab.kernel.invokeFunction('convertToInteractive',\n",
              "                                                    [key], {});\n",
              "        if (!dataTable) return;\n",
              "\n",
              "        const docLinkHtml = 'Like what you see? Visit the ' +\n",
              "          '<a target=\"_blank\" href=https://colab.research.google.com/notebooks/data_table.ipynb>data table notebook</a>'\n",
              "          + ' to learn more about interactive tables.';\n",
              "        element.innerHTML = '';\n",
              "        dataTable['output_type'] = 'display_data';\n",
              "        await google.colab.output.renderOutput(dataTable, element);\n",
              "        const docLink = document.createElement('div');\n",
              "        docLink.innerHTML = docLinkHtml;\n",
              "        element.appendChild(docLink);\n",
              "      }\n",
              "    </script>\n",
              "  </div>\n",
              "\n",
              "\n",
              "    <div id=\"df-2e14a0a4-cd89-4dd4-b6fb-b01ba9bdaf17\">\n",
              "      <button class=\"colab-df-quickchart\" onclick=\"quickchart('df-2e14a0a4-cd89-4dd4-b6fb-b01ba9bdaf17')\"\n",
              "                title=\"Suggest charts\"\n",
              "                style=\"display:none;\">\n",
              "\n",
              "<svg xmlns=\"http://www.w3.org/2000/svg\" height=\"24px\"viewBox=\"0 0 24 24\"\n",
              "     width=\"24px\">\n",
              "    <g>\n",
              "        <path d=\"M19 3H5c-1.1 0-2 .9-2 2v14c0 1.1.9 2 2 2h14c1.1 0 2-.9 2-2V5c0-1.1-.9-2-2-2zM9 17H7v-7h2v7zm4 0h-2V7h2v10zm4 0h-2v-4h2v4z\"/>\n",
              "    </g>\n",
              "</svg>\n",
              "      </button>\n",
              "\n",
              "<style>\n",
              "  .colab-df-quickchart {\n",
              "      --bg-color: #E8F0FE;\n",
              "      --fill-color: #1967D2;\n",
              "      --hover-bg-color: #E2EBFA;\n",
              "      --hover-fill-color: #174EA6;\n",
              "      --disabled-fill-color: #AAA;\n",
              "      --disabled-bg-color: #DDD;\n",
              "  }\n",
              "\n",
              "  [theme=dark] .colab-df-quickchart {\n",
              "      --bg-color: #3B4455;\n",
              "      --fill-color: #D2E3FC;\n",
              "      --hover-bg-color: #434B5C;\n",
              "      --hover-fill-color: #FFFFFF;\n",
              "      --disabled-bg-color: #3B4455;\n",
              "      --disabled-fill-color: #666;\n",
              "  }\n",
              "\n",
              "  .colab-df-quickchart {\n",
              "    background-color: var(--bg-color);\n",
              "    border: none;\n",
              "    border-radius: 50%;\n",
              "    cursor: pointer;\n",
              "    display: none;\n",
              "    fill: var(--fill-color);\n",
              "    height: 32px;\n",
              "    padding: 0;\n",
              "    width: 32px;\n",
              "  }\n",
              "\n",
              "  .colab-df-quickchart:hover {\n",
              "    background-color: var(--hover-bg-color);\n",
              "    box-shadow: 0 1px 2px rgba(60, 64, 67, 0.3), 0 1px 3px 1px rgba(60, 64, 67, 0.15);\n",
              "    fill: var(--button-hover-fill-color);\n",
              "  }\n",
              "\n",
              "  .colab-df-quickchart-complete:disabled,\n",
              "  .colab-df-quickchart-complete:disabled:hover {\n",
              "    background-color: var(--disabled-bg-color);\n",
              "    fill: var(--disabled-fill-color);\n",
              "    box-shadow: none;\n",
              "  }\n",
              "\n",
              "  .colab-df-spinner {\n",
              "    border: 2px solid var(--fill-color);\n",
              "    border-color: transparent;\n",
              "    border-bottom-color: var(--fill-color);\n",
              "    animation:\n",
              "      spin 1s steps(1) infinite;\n",
              "  }\n",
              "\n",
              "  @keyframes spin {\n",
              "    0% {\n",
              "      border-color: transparent;\n",
              "      border-bottom-color: var(--fill-color);\n",
              "      border-left-color: var(--fill-color);\n",
              "    }\n",
              "    20% {\n",
              "      border-color: transparent;\n",
              "      border-left-color: var(--fill-color);\n",
              "      border-top-color: var(--fill-color);\n",
              "    }\n",
              "    30% {\n",
              "      border-color: transparent;\n",
              "      border-left-color: var(--fill-color);\n",
              "      border-top-color: var(--fill-color);\n",
              "      border-right-color: var(--fill-color);\n",
              "    }\n",
              "    40% {\n",
              "      border-color: transparent;\n",
              "      border-right-color: var(--fill-color);\n",
              "      border-top-color: var(--fill-color);\n",
              "    }\n",
              "    60% {\n",
              "      border-color: transparent;\n",
              "      border-right-color: var(--fill-color);\n",
              "    }\n",
              "    80% {\n",
              "      border-color: transparent;\n",
              "      border-right-color: var(--fill-color);\n",
              "      border-bottom-color: var(--fill-color);\n",
              "    }\n",
              "    90% {\n",
              "      border-color: transparent;\n",
              "      border-bottom-color: var(--fill-color);\n",
              "    }\n",
              "  }\n",
              "</style>\n",
              "\n",
              "      <script>\n",
              "        async function quickchart(key) {\n",
              "          const quickchartButtonEl =\n",
              "            document.querySelector('#' + key + ' button');\n",
              "          quickchartButtonEl.disabled = true;  // To prevent multiple clicks.\n",
              "          quickchartButtonEl.classList.add('colab-df-spinner');\n",
              "          try {\n",
              "            const charts = await google.colab.kernel.invokeFunction(\n",
              "                'suggestCharts', [key], {});\n",
              "          } catch (error) {\n",
              "            console.error('Error during call to suggestCharts:', error);\n",
              "          }\n",
              "          quickchartButtonEl.classList.remove('colab-df-spinner');\n",
              "          quickchartButtonEl.classList.add('colab-df-quickchart-complete');\n",
              "        }\n",
              "        (() => {\n",
              "          let quickchartButtonEl =\n",
              "            document.querySelector('#df-2e14a0a4-cd89-4dd4-b6fb-b01ba9bdaf17 button');\n",
              "          quickchartButtonEl.style.display =\n",
              "            google.colab.kernel.accessAllowed ? 'block' : 'none';\n",
              "        })();\n",
              "      </script>\n",
              "    </div>\n",
              "\n",
              "    </div>\n",
              "  </div>\n"
            ],
            "application/vnd.google.colaboratory.intrinsic+json": {
              "type": "dataframe",
              "variable_name": "train_dataset"
            }
          },
          "metadata": {},
          "execution_count": 8
        }
      ],
      "source": [
        "train_dataset.head()"
      ]
    },
    {
      "cell_type": "code",
      "execution_count": 9,
      "id": "1dc5cd0d",
      "metadata": {
        "colab": {
          "base_uri": "https://localhost:8080/",
          "height": 206
        },
        "id": "1dc5cd0d",
        "outputId": "ca2613a6-20dd-4709-ef53-d3372ab1f2b2"
      },
      "outputs": [
        {
          "output_type": "execute_result",
          "data": {
            "text/plain": [
              "       labels                                               text\n",
              "0  __label__2  Great CD: My lovely Pat has one of the GREAT v...\n",
              "1  __label__2  One of the best game music soundtracks - for a...\n",
              "2  __label__1  Batteries died within a year ...: I bought thi...\n",
              "3  __label__2  works fine, but Maha Energy is better: Check o...\n",
              "4  __label__2  Great for the non-audiophile: Reviewed quite a..."
            ],
            "text/html": [
              "\n",
              "  <div id=\"df-c0e59032-db28-4f65-abef-e6ad5bc0d650\" class=\"colab-df-container\">\n",
              "    <div>\n",
              "<style scoped>\n",
              "    .dataframe tbody tr th:only-of-type {\n",
              "        vertical-align: middle;\n",
              "    }\n",
              "\n",
              "    .dataframe tbody tr th {\n",
              "        vertical-align: top;\n",
              "    }\n",
              "\n",
              "    .dataframe thead th {\n",
              "        text-align: right;\n",
              "    }\n",
              "</style>\n",
              "<table border=\"1\" class=\"dataframe\">\n",
              "  <thead>\n",
              "    <tr style=\"text-align: right;\">\n",
              "      <th></th>\n",
              "      <th>labels</th>\n",
              "      <th>text</th>\n",
              "    </tr>\n",
              "  </thead>\n",
              "  <tbody>\n",
              "    <tr>\n",
              "      <th>0</th>\n",
              "      <td>__label__2</td>\n",
              "      <td>Great CD: My lovely Pat has one of the GREAT v...</td>\n",
              "    </tr>\n",
              "    <tr>\n",
              "      <th>1</th>\n",
              "      <td>__label__2</td>\n",
              "      <td>One of the best game music soundtracks - for a...</td>\n",
              "    </tr>\n",
              "    <tr>\n",
              "      <th>2</th>\n",
              "      <td>__label__1</td>\n",
              "      <td>Batteries died within a year ...: I bought thi...</td>\n",
              "    </tr>\n",
              "    <tr>\n",
              "      <th>3</th>\n",
              "      <td>__label__2</td>\n",
              "      <td>works fine, but Maha Energy is better: Check o...</td>\n",
              "    </tr>\n",
              "    <tr>\n",
              "      <th>4</th>\n",
              "      <td>__label__2</td>\n",
              "      <td>Great for the non-audiophile: Reviewed quite a...</td>\n",
              "    </tr>\n",
              "  </tbody>\n",
              "</table>\n",
              "</div>\n",
              "    <div class=\"colab-df-buttons\">\n",
              "\n",
              "  <div class=\"colab-df-container\">\n",
              "    <button class=\"colab-df-convert\" onclick=\"convertToInteractive('df-c0e59032-db28-4f65-abef-e6ad5bc0d650')\"\n",
              "            title=\"Convert this dataframe to an interactive table.\"\n",
              "            style=\"display:none;\">\n",
              "\n",
              "  <svg xmlns=\"http://www.w3.org/2000/svg\" height=\"24px\" viewBox=\"0 -960 960 960\">\n",
              "    <path d=\"M120-120v-720h720v720H120Zm60-500h600v-160H180v160Zm220 220h160v-160H400v160Zm0 220h160v-160H400v160ZM180-400h160v-160H180v160Zm440 0h160v-160H620v160ZM180-180h160v-160H180v160Zm440 0h160v-160H620v160Z\"/>\n",
              "  </svg>\n",
              "    </button>\n",
              "\n",
              "  <style>\n",
              "    .colab-df-container {\n",
              "      display:flex;\n",
              "      gap: 12px;\n",
              "    }\n",
              "\n",
              "    .colab-df-convert {\n",
              "      background-color: #E8F0FE;\n",
              "      border: none;\n",
              "      border-radius: 50%;\n",
              "      cursor: pointer;\n",
              "      display: none;\n",
              "      fill: #1967D2;\n",
              "      height: 32px;\n",
              "      padding: 0 0 0 0;\n",
              "      width: 32px;\n",
              "    }\n",
              "\n",
              "    .colab-df-convert:hover {\n",
              "      background-color: #E2EBFA;\n",
              "      box-shadow: 0px 1px 2px rgba(60, 64, 67, 0.3), 0px 1px 3px 1px rgba(60, 64, 67, 0.15);\n",
              "      fill: #174EA6;\n",
              "    }\n",
              "\n",
              "    .colab-df-buttons div {\n",
              "      margin-bottom: 4px;\n",
              "    }\n",
              "\n",
              "    [theme=dark] .colab-df-convert {\n",
              "      background-color: #3B4455;\n",
              "      fill: #D2E3FC;\n",
              "    }\n",
              "\n",
              "    [theme=dark] .colab-df-convert:hover {\n",
              "      background-color: #434B5C;\n",
              "      box-shadow: 0px 1px 3px 1px rgba(0, 0, 0, 0.15);\n",
              "      filter: drop-shadow(0px 1px 2px rgba(0, 0, 0, 0.3));\n",
              "      fill: #FFFFFF;\n",
              "    }\n",
              "  </style>\n",
              "\n",
              "    <script>\n",
              "      const buttonEl =\n",
              "        document.querySelector('#df-c0e59032-db28-4f65-abef-e6ad5bc0d650 button.colab-df-convert');\n",
              "      buttonEl.style.display =\n",
              "        google.colab.kernel.accessAllowed ? 'block' : 'none';\n",
              "\n",
              "      async function convertToInteractive(key) {\n",
              "        const element = document.querySelector('#df-c0e59032-db28-4f65-abef-e6ad5bc0d650');\n",
              "        const dataTable =\n",
              "          await google.colab.kernel.invokeFunction('convertToInteractive',\n",
              "                                                    [key], {});\n",
              "        if (!dataTable) return;\n",
              "\n",
              "        const docLinkHtml = 'Like what you see? Visit the ' +\n",
              "          '<a target=\"_blank\" href=https://colab.research.google.com/notebooks/data_table.ipynb>data table notebook</a>'\n",
              "          + ' to learn more about interactive tables.';\n",
              "        element.innerHTML = '';\n",
              "        dataTable['output_type'] = 'display_data';\n",
              "        await google.colab.output.renderOutput(dataTable, element);\n",
              "        const docLink = document.createElement('div');\n",
              "        docLink.innerHTML = docLinkHtml;\n",
              "        element.appendChild(docLink);\n",
              "      }\n",
              "    </script>\n",
              "  </div>\n",
              "\n",
              "\n",
              "    <div id=\"df-6c019100-5bc4-4215-8687-7414aa230791\">\n",
              "      <button class=\"colab-df-quickchart\" onclick=\"quickchart('df-6c019100-5bc4-4215-8687-7414aa230791')\"\n",
              "                title=\"Suggest charts\"\n",
              "                style=\"display:none;\">\n",
              "\n",
              "<svg xmlns=\"http://www.w3.org/2000/svg\" height=\"24px\"viewBox=\"0 0 24 24\"\n",
              "     width=\"24px\">\n",
              "    <g>\n",
              "        <path d=\"M19 3H5c-1.1 0-2 .9-2 2v14c0 1.1.9 2 2 2h14c1.1 0 2-.9 2-2V5c0-1.1-.9-2-2-2zM9 17H7v-7h2v7zm4 0h-2V7h2v10zm4 0h-2v-4h2v4z\"/>\n",
              "    </g>\n",
              "</svg>\n",
              "      </button>\n",
              "\n",
              "<style>\n",
              "  .colab-df-quickchart {\n",
              "      --bg-color: #E8F0FE;\n",
              "      --fill-color: #1967D2;\n",
              "      --hover-bg-color: #E2EBFA;\n",
              "      --hover-fill-color: #174EA6;\n",
              "      --disabled-fill-color: #AAA;\n",
              "      --disabled-bg-color: #DDD;\n",
              "  }\n",
              "\n",
              "  [theme=dark] .colab-df-quickchart {\n",
              "      --bg-color: #3B4455;\n",
              "      --fill-color: #D2E3FC;\n",
              "      --hover-bg-color: #434B5C;\n",
              "      --hover-fill-color: #FFFFFF;\n",
              "      --disabled-bg-color: #3B4455;\n",
              "      --disabled-fill-color: #666;\n",
              "  }\n",
              "\n",
              "  .colab-df-quickchart {\n",
              "    background-color: var(--bg-color);\n",
              "    border: none;\n",
              "    border-radius: 50%;\n",
              "    cursor: pointer;\n",
              "    display: none;\n",
              "    fill: var(--fill-color);\n",
              "    height: 32px;\n",
              "    padding: 0;\n",
              "    width: 32px;\n",
              "  }\n",
              "\n",
              "  .colab-df-quickchart:hover {\n",
              "    background-color: var(--hover-bg-color);\n",
              "    box-shadow: 0 1px 2px rgba(60, 64, 67, 0.3), 0 1px 3px 1px rgba(60, 64, 67, 0.15);\n",
              "    fill: var(--button-hover-fill-color);\n",
              "  }\n",
              "\n",
              "  .colab-df-quickchart-complete:disabled,\n",
              "  .colab-df-quickchart-complete:disabled:hover {\n",
              "    background-color: var(--disabled-bg-color);\n",
              "    fill: var(--disabled-fill-color);\n",
              "    box-shadow: none;\n",
              "  }\n",
              "\n",
              "  .colab-df-spinner {\n",
              "    border: 2px solid var(--fill-color);\n",
              "    border-color: transparent;\n",
              "    border-bottom-color: var(--fill-color);\n",
              "    animation:\n",
              "      spin 1s steps(1) infinite;\n",
              "  }\n",
              "\n",
              "  @keyframes spin {\n",
              "    0% {\n",
              "      border-color: transparent;\n",
              "      border-bottom-color: var(--fill-color);\n",
              "      border-left-color: var(--fill-color);\n",
              "    }\n",
              "    20% {\n",
              "      border-color: transparent;\n",
              "      border-left-color: var(--fill-color);\n",
              "      border-top-color: var(--fill-color);\n",
              "    }\n",
              "    30% {\n",
              "      border-color: transparent;\n",
              "      border-left-color: var(--fill-color);\n",
              "      border-top-color: var(--fill-color);\n",
              "      border-right-color: var(--fill-color);\n",
              "    }\n",
              "    40% {\n",
              "      border-color: transparent;\n",
              "      border-right-color: var(--fill-color);\n",
              "      border-top-color: var(--fill-color);\n",
              "    }\n",
              "    60% {\n",
              "      border-color: transparent;\n",
              "      border-right-color: var(--fill-color);\n",
              "    }\n",
              "    80% {\n",
              "      border-color: transparent;\n",
              "      border-right-color: var(--fill-color);\n",
              "      border-bottom-color: var(--fill-color);\n",
              "    }\n",
              "    90% {\n",
              "      border-color: transparent;\n",
              "      border-bottom-color: var(--fill-color);\n",
              "    }\n",
              "  }\n",
              "</style>\n",
              "\n",
              "      <script>\n",
              "        async function quickchart(key) {\n",
              "          const quickchartButtonEl =\n",
              "            document.querySelector('#' + key + ' button');\n",
              "          quickchartButtonEl.disabled = true;  // To prevent multiple clicks.\n",
              "          quickchartButtonEl.classList.add('colab-df-spinner');\n",
              "          try {\n",
              "            const charts = await google.colab.kernel.invokeFunction(\n",
              "                'suggestCharts', [key], {});\n",
              "          } catch (error) {\n",
              "            console.error('Error during call to suggestCharts:', error);\n",
              "          }\n",
              "          quickchartButtonEl.classList.remove('colab-df-spinner');\n",
              "          quickchartButtonEl.classList.add('colab-df-quickchart-complete');\n",
              "        }\n",
              "        (() => {\n",
              "          let quickchartButtonEl =\n",
              "            document.querySelector('#df-6c019100-5bc4-4215-8687-7414aa230791 button');\n",
              "          quickchartButtonEl.style.display =\n",
              "            google.colab.kernel.accessAllowed ? 'block' : 'none';\n",
              "        })();\n",
              "      </script>\n",
              "    </div>\n",
              "\n",
              "    </div>\n",
              "  </div>\n"
            ],
            "application/vnd.google.colaboratory.intrinsic+json": {
              "type": "dataframe",
              "variable_name": "test_dataset"
            }
          },
          "metadata": {},
          "execution_count": 9
        }
      ],
      "source": [
        "test_dataset.head()"
      ]
    },
    {
      "cell_type": "code",
      "execution_count": 10,
      "id": "15f70f60",
      "metadata": {
        "colab": {
          "base_uri": "https://localhost:8080/"
        },
        "id": "15f70f60",
        "outputId": "caa6600d-7e70-4ed1-810a-85a6fcc5b06a"
      },
      "outputs": [
        {
          "output_type": "stream",
          "name": "stdout",
          "text": [
            "(3600010, 2)\n",
            "(400000, 2)\n"
          ]
        }
      ],
      "source": [
        "print(train_dataset.shape)\n",
        "print(test_dataset.shape)"
      ]
    },
    {
      "cell_type": "code",
      "execution_count": 11,
      "id": "e2b3d3af",
      "metadata": {
        "colab": {
          "base_uri": "https://localhost:8080/"
        },
        "id": "e2b3d3af",
        "outputId": "09779038-46eb-4408-fbde-51475efffa37"
      },
      "outputs": [
        {
          "output_type": "stream",
          "name": "stdout",
          "text": [
            "Train Dataset Information\n",
            "<class 'pandas.core.frame.DataFrame'>\n",
            "RangeIndex: 3600010 entries, 0 to 3600009\n",
            "Data columns (total 2 columns):\n",
            " #   Column  Dtype \n",
            "---  ------  ----- \n",
            " 0   labels  object\n",
            " 1   text    object\n",
            "dtypes: object(2)\n",
            "memory usage: 54.9+ MB\n",
            "None\n",
            "Test Dataset Information\n",
            "<class 'pandas.core.frame.DataFrame'>\n",
            "RangeIndex: 400000 entries, 0 to 399999\n",
            "Data columns (total 2 columns):\n",
            " #   Column  Non-Null Count   Dtype \n",
            "---  ------  --------------   ----- \n",
            " 0   labels  400000 non-null  object\n",
            " 1   text    400000 non-null  object\n",
            "dtypes: object(2)\n",
            "memory usage: 6.1+ MB\n",
            "None\n"
          ]
        }
      ],
      "source": [
        "print('Train Dataset Information')\n",
        "print(train_dataset.info())\n",
        "print('Test Dataset Information')\n",
        "print(test_dataset.info())"
      ]
    },
    {
      "cell_type": "code",
      "execution_count": 12,
      "id": "a96458f7",
      "metadata": {
        "colab": {
          "base_uri": "https://localhost:8080/",
          "height": 164
        },
        "id": "a96458f7",
        "outputId": "34b6724d-119d-46bf-c41c-4d6c2b3215cd"
      },
      "outputs": [
        {
          "output_type": "stream",
          "name": "stdout",
          "text": [
            "Checking for Null Values in the Train Dataset\n"
          ]
        },
        {
          "output_type": "execute_result",
          "data": {
            "text/plain": [
              "labels    0\n",
              "text      0\n",
              "dtype: int64"
            ],
            "text/html": [
              "<div>\n",
              "<style scoped>\n",
              "    .dataframe tbody tr th:only-of-type {\n",
              "        vertical-align: middle;\n",
              "    }\n",
              "\n",
              "    .dataframe tbody tr th {\n",
              "        vertical-align: top;\n",
              "    }\n",
              "\n",
              "    .dataframe thead th {\n",
              "        text-align: right;\n",
              "    }\n",
              "</style>\n",
              "<table border=\"1\" class=\"dataframe\">\n",
              "  <thead>\n",
              "    <tr style=\"text-align: right;\">\n",
              "      <th></th>\n",
              "      <th>0</th>\n",
              "    </tr>\n",
              "  </thead>\n",
              "  <tbody>\n",
              "    <tr>\n",
              "      <th>labels</th>\n",
              "      <td>0</td>\n",
              "    </tr>\n",
              "    <tr>\n",
              "      <th>text</th>\n",
              "      <td>0</td>\n",
              "    </tr>\n",
              "  </tbody>\n",
              "</table>\n",
              "</div><br><label><b>dtype:</b> int64</label>"
            ]
          },
          "metadata": {},
          "execution_count": 12
        }
      ],
      "source": [
        "## Checking for Null values within both datasets\n",
        "print('Checking for Null Values in the Train Dataset')\n",
        "train_dataset.isnull().sum()"
      ]
    },
    {
      "cell_type": "code",
      "execution_count": 13,
      "id": "fccc0dba",
      "metadata": {
        "colab": {
          "base_uri": "https://localhost:8080/",
          "height": 164
        },
        "id": "fccc0dba",
        "outputId": "dc97c914-d08b-441f-b201-217fcc94f33c"
      },
      "outputs": [
        {
          "output_type": "stream",
          "name": "stdout",
          "text": [
            "Checking for Null Values in the Test Dataset\n"
          ]
        },
        {
          "output_type": "execute_result",
          "data": {
            "text/plain": [
              "labels    0\n",
              "text      0\n",
              "dtype: int64"
            ],
            "text/html": [
              "<div>\n",
              "<style scoped>\n",
              "    .dataframe tbody tr th:only-of-type {\n",
              "        vertical-align: middle;\n",
              "    }\n",
              "\n",
              "    .dataframe tbody tr th {\n",
              "        vertical-align: top;\n",
              "    }\n",
              "\n",
              "    .dataframe thead th {\n",
              "        text-align: right;\n",
              "    }\n",
              "</style>\n",
              "<table border=\"1\" class=\"dataframe\">\n",
              "  <thead>\n",
              "    <tr style=\"text-align: right;\">\n",
              "      <th></th>\n",
              "      <th>0</th>\n",
              "    </tr>\n",
              "  </thead>\n",
              "  <tbody>\n",
              "    <tr>\n",
              "      <th>labels</th>\n",
              "      <td>0</td>\n",
              "    </tr>\n",
              "    <tr>\n",
              "      <th>text</th>\n",
              "      <td>0</td>\n",
              "    </tr>\n",
              "  </tbody>\n",
              "</table>\n",
              "</div><br><label><b>dtype:</b> int64</label>"
            ]
          },
          "metadata": {},
          "execution_count": 13
        }
      ],
      "source": [
        "print('Checking for Null Values in the Test Dataset')\n",
        "test_dataset.isnull().sum()"
      ]
    },
    {
      "cell_type": "code",
      "execution_count": 14,
      "id": "9c97e4ef",
      "metadata": {
        "colab": {
          "base_uri": "https://localhost:8080/",
          "height": 175
        },
        "id": "9c97e4ef",
        "outputId": "98d4c72f-c9b1-4ed7-99ef-2427ea0f9c01"
      },
      "outputs": [
        {
          "output_type": "execute_result",
          "data": {
            "text/plain": [
              "            labels                                               text\n",
              "count      3600010                                            3600010\n",
              "unique           2                                            3600000\n",
              "top     __label__2  Stuning even for the non-gamer: This sound tra...\n",
              "freq       1800009                                                  2"
            ],
            "text/html": [
              "\n",
              "  <div id=\"df-febd9a41-52c1-4a8a-a88e-40b56c5556b7\" class=\"colab-df-container\">\n",
              "    <div>\n",
              "<style scoped>\n",
              "    .dataframe tbody tr th:only-of-type {\n",
              "        vertical-align: middle;\n",
              "    }\n",
              "\n",
              "    .dataframe tbody tr th {\n",
              "        vertical-align: top;\n",
              "    }\n",
              "\n",
              "    .dataframe thead th {\n",
              "        text-align: right;\n",
              "    }\n",
              "</style>\n",
              "<table border=\"1\" class=\"dataframe\">\n",
              "  <thead>\n",
              "    <tr style=\"text-align: right;\">\n",
              "      <th></th>\n",
              "      <th>labels</th>\n",
              "      <th>text</th>\n",
              "    </tr>\n",
              "  </thead>\n",
              "  <tbody>\n",
              "    <tr>\n",
              "      <th>count</th>\n",
              "      <td>3600010</td>\n",
              "      <td>3600010</td>\n",
              "    </tr>\n",
              "    <tr>\n",
              "      <th>unique</th>\n",
              "      <td>2</td>\n",
              "      <td>3600000</td>\n",
              "    </tr>\n",
              "    <tr>\n",
              "      <th>top</th>\n",
              "      <td>__label__2</td>\n",
              "      <td>Stuning even for the non-gamer: This sound tra...</td>\n",
              "    </tr>\n",
              "    <tr>\n",
              "      <th>freq</th>\n",
              "      <td>1800009</td>\n",
              "      <td>2</td>\n",
              "    </tr>\n",
              "  </tbody>\n",
              "</table>\n",
              "</div>\n",
              "    <div class=\"colab-df-buttons\">\n",
              "\n",
              "  <div class=\"colab-df-container\">\n",
              "    <button class=\"colab-df-convert\" onclick=\"convertToInteractive('df-febd9a41-52c1-4a8a-a88e-40b56c5556b7')\"\n",
              "            title=\"Convert this dataframe to an interactive table.\"\n",
              "            style=\"display:none;\">\n",
              "\n",
              "  <svg xmlns=\"http://www.w3.org/2000/svg\" height=\"24px\" viewBox=\"0 -960 960 960\">\n",
              "    <path d=\"M120-120v-720h720v720H120Zm60-500h600v-160H180v160Zm220 220h160v-160H400v160Zm0 220h160v-160H400v160ZM180-400h160v-160H180v160Zm440 0h160v-160H620v160ZM180-180h160v-160H180v160Zm440 0h160v-160H620v160Z\"/>\n",
              "  </svg>\n",
              "    </button>\n",
              "\n",
              "  <style>\n",
              "    .colab-df-container {\n",
              "      display:flex;\n",
              "      gap: 12px;\n",
              "    }\n",
              "\n",
              "    .colab-df-convert {\n",
              "      background-color: #E8F0FE;\n",
              "      border: none;\n",
              "      border-radius: 50%;\n",
              "      cursor: pointer;\n",
              "      display: none;\n",
              "      fill: #1967D2;\n",
              "      height: 32px;\n",
              "      padding: 0 0 0 0;\n",
              "      width: 32px;\n",
              "    }\n",
              "\n",
              "    .colab-df-convert:hover {\n",
              "      background-color: #E2EBFA;\n",
              "      box-shadow: 0px 1px 2px rgba(60, 64, 67, 0.3), 0px 1px 3px 1px rgba(60, 64, 67, 0.15);\n",
              "      fill: #174EA6;\n",
              "    }\n",
              "\n",
              "    .colab-df-buttons div {\n",
              "      margin-bottom: 4px;\n",
              "    }\n",
              "\n",
              "    [theme=dark] .colab-df-convert {\n",
              "      background-color: #3B4455;\n",
              "      fill: #D2E3FC;\n",
              "    }\n",
              "\n",
              "    [theme=dark] .colab-df-convert:hover {\n",
              "      background-color: #434B5C;\n",
              "      box-shadow: 0px 1px 3px 1px rgba(0, 0, 0, 0.15);\n",
              "      filter: drop-shadow(0px 1px 2px rgba(0, 0, 0, 0.3));\n",
              "      fill: #FFFFFF;\n",
              "    }\n",
              "  </style>\n",
              "\n",
              "    <script>\n",
              "      const buttonEl =\n",
              "        document.querySelector('#df-febd9a41-52c1-4a8a-a88e-40b56c5556b7 button.colab-df-convert');\n",
              "      buttonEl.style.display =\n",
              "        google.colab.kernel.accessAllowed ? 'block' : 'none';\n",
              "\n",
              "      async function convertToInteractive(key) {\n",
              "        const element = document.querySelector('#df-febd9a41-52c1-4a8a-a88e-40b56c5556b7');\n",
              "        const dataTable =\n",
              "          await google.colab.kernel.invokeFunction('convertToInteractive',\n",
              "                                                    [key], {});\n",
              "        if (!dataTable) return;\n",
              "\n",
              "        const docLinkHtml = 'Like what you see? Visit the ' +\n",
              "          '<a target=\"_blank\" href=https://colab.research.google.com/notebooks/data_table.ipynb>data table notebook</a>'\n",
              "          + ' to learn more about interactive tables.';\n",
              "        element.innerHTML = '';\n",
              "        dataTable['output_type'] = 'display_data';\n",
              "        await google.colab.output.renderOutput(dataTable, element);\n",
              "        const docLink = document.createElement('div');\n",
              "        docLink.innerHTML = docLinkHtml;\n",
              "        element.appendChild(docLink);\n",
              "      }\n",
              "    </script>\n",
              "  </div>\n",
              "\n",
              "\n",
              "    <div id=\"df-9dc8685a-7fad-4b83-864b-95931e98cfdb\">\n",
              "      <button class=\"colab-df-quickchart\" onclick=\"quickchart('df-9dc8685a-7fad-4b83-864b-95931e98cfdb')\"\n",
              "                title=\"Suggest charts\"\n",
              "                style=\"display:none;\">\n",
              "\n",
              "<svg xmlns=\"http://www.w3.org/2000/svg\" height=\"24px\"viewBox=\"0 0 24 24\"\n",
              "     width=\"24px\">\n",
              "    <g>\n",
              "        <path d=\"M19 3H5c-1.1 0-2 .9-2 2v14c0 1.1.9 2 2 2h14c1.1 0 2-.9 2-2V5c0-1.1-.9-2-2-2zM9 17H7v-7h2v7zm4 0h-2V7h2v10zm4 0h-2v-4h2v4z\"/>\n",
              "    </g>\n",
              "</svg>\n",
              "      </button>\n",
              "\n",
              "<style>\n",
              "  .colab-df-quickchart {\n",
              "      --bg-color: #E8F0FE;\n",
              "      --fill-color: #1967D2;\n",
              "      --hover-bg-color: #E2EBFA;\n",
              "      --hover-fill-color: #174EA6;\n",
              "      --disabled-fill-color: #AAA;\n",
              "      --disabled-bg-color: #DDD;\n",
              "  }\n",
              "\n",
              "  [theme=dark] .colab-df-quickchart {\n",
              "      --bg-color: #3B4455;\n",
              "      --fill-color: #D2E3FC;\n",
              "      --hover-bg-color: #434B5C;\n",
              "      --hover-fill-color: #FFFFFF;\n",
              "      --disabled-bg-color: #3B4455;\n",
              "      --disabled-fill-color: #666;\n",
              "  }\n",
              "\n",
              "  .colab-df-quickchart {\n",
              "    background-color: var(--bg-color);\n",
              "    border: none;\n",
              "    border-radius: 50%;\n",
              "    cursor: pointer;\n",
              "    display: none;\n",
              "    fill: var(--fill-color);\n",
              "    height: 32px;\n",
              "    padding: 0;\n",
              "    width: 32px;\n",
              "  }\n",
              "\n",
              "  .colab-df-quickchart:hover {\n",
              "    background-color: var(--hover-bg-color);\n",
              "    box-shadow: 0 1px 2px rgba(60, 64, 67, 0.3), 0 1px 3px 1px rgba(60, 64, 67, 0.15);\n",
              "    fill: var(--button-hover-fill-color);\n",
              "  }\n",
              "\n",
              "  .colab-df-quickchart-complete:disabled,\n",
              "  .colab-df-quickchart-complete:disabled:hover {\n",
              "    background-color: var(--disabled-bg-color);\n",
              "    fill: var(--disabled-fill-color);\n",
              "    box-shadow: none;\n",
              "  }\n",
              "\n",
              "  .colab-df-spinner {\n",
              "    border: 2px solid var(--fill-color);\n",
              "    border-color: transparent;\n",
              "    border-bottom-color: var(--fill-color);\n",
              "    animation:\n",
              "      spin 1s steps(1) infinite;\n",
              "  }\n",
              "\n",
              "  @keyframes spin {\n",
              "    0% {\n",
              "      border-color: transparent;\n",
              "      border-bottom-color: var(--fill-color);\n",
              "      border-left-color: var(--fill-color);\n",
              "    }\n",
              "    20% {\n",
              "      border-color: transparent;\n",
              "      border-left-color: var(--fill-color);\n",
              "      border-top-color: var(--fill-color);\n",
              "    }\n",
              "    30% {\n",
              "      border-color: transparent;\n",
              "      border-left-color: var(--fill-color);\n",
              "      border-top-color: var(--fill-color);\n",
              "      border-right-color: var(--fill-color);\n",
              "    }\n",
              "    40% {\n",
              "      border-color: transparent;\n",
              "      border-right-color: var(--fill-color);\n",
              "      border-top-color: var(--fill-color);\n",
              "    }\n",
              "    60% {\n",
              "      border-color: transparent;\n",
              "      border-right-color: var(--fill-color);\n",
              "    }\n",
              "    80% {\n",
              "      border-color: transparent;\n",
              "      border-right-color: var(--fill-color);\n",
              "      border-bottom-color: var(--fill-color);\n",
              "    }\n",
              "    90% {\n",
              "      border-color: transparent;\n",
              "      border-bottom-color: var(--fill-color);\n",
              "    }\n",
              "  }\n",
              "</style>\n",
              "\n",
              "      <script>\n",
              "        async function quickchart(key) {\n",
              "          const quickchartButtonEl =\n",
              "            document.querySelector('#' + key + ' button');\n",
              "          quickchartButtonEl.disabled = true;  // To prevent multiple clicks.\n",
              "          quickchartButtonEl.classList.add('colab-df-spinner');\n",
              "          try {\n",
              "            const charts = await google.colab.kernel.invokeFunction(\n",
              "                'suggestCharts', [key], {});\n",
              "          } catch (error) {\n",
              "            console.error('Error during call to suggestCharts:', error);\n",
              "          }\n",
              "          quickchartButtonEl.classList.remove('colab-df-spinner');\n",
              "          quickchartButtonEl.classList.add('colab-df-quickchart-complete');\n",
              "        }\n",
              "        (() => {\n",
              "          let quickchartButtonEl =\n",
              "            document.querySelector('#df-9dc8685a-7fad-4b83-864b-95931e98cfdb button');\n",
              "          quickchartButtonEl.style.display =\n",
              "            google.colab.kernel.accessAllowed ? 'block' : 'none';\n",
              "        })();\n",
              "      </script>\n",
              "    </div>\n",
              "\n",
              "    </div>\n",
              "  </div>\n"
            ],
            "application/vnd.google.colaboratory.intrinsic+json": {
              "type": "dataframe",
              "summary": "{\n  \"name\": \"train_dataset\",\n  \"rows\": 4,\n  \"fields\": [\n    {\n      \"column\": \"labels\",\n      \"properties\": {\n        \"dtype\": \"string\",\n        \"num_unique_values\": 4,\n        \"samples\": [\n          2,\n          \"1800009\",\n          \"3600010\"\n        ],\n        \"semantic_type\": \"\",\n        \"description\": \"\"\n      }\n    },\n    {\n      \"column\": \"text\",\n      \"properties\": {\n        \"dtype\": \"string\",\n        \"num_unique_values\": 4,\n        \"samples\": [\n          3600000,\n          \"2\",\n          \"3600010\"\n        ],\n        \"semantic_type\": \"\",\n        \"description\": \"\"\n      }\n    }\n  ]\n}"
            }
          },
          "metadata": {},
          "execution_count": 14
        }
      ],
      "source": [
        "train_dataset.describe()"
      ]
    },
    {
      "cell_type": "markdown",
      "id": "3ba6cf13",
      "metadata": {
        "id": "3ba6cf13"
      },
      "source": [
        "### DATA CLEANING AND PREPROCESSING"
      ]
    },
    {
      "cell_type": "code",
      "execution_count": 15,
      "id": "1f7cb764",
      "metadata": {
        "colab": {
          "base_uri": "https://localhost:8080/"
        },
        "id": "1f7cb764",
        "outputId": "17ffc929-0d5b-4db5-ca7e-add3f8fd797e"
      },
      "outputs": [
        {
          "output_type": "stream",
          "name": "stdout",
          "text": [
            "example sentence demonstrate remove stopwords\n"
          ]
        }
      ],
      "source": [
        "# Initialize the list of stopwords\n",
        "stop_words = set(stopwords.words('english'))\n",
        "\n",
        "def remove_stopwords(content):\n",
        "    \"\"\"\n",
        "    Tokenize, convert text to lowercase and remove stops like this, is,to\n",
        "    \"\"\"\n",
        "    # Convert text to lowercase and tokenize\n",
        "    tokens = word_tokenize(content.lower())\n",
        "    # Remove stopwords (and optionally punctuation or other unwanted tokens)\n",
        "    filtered_tokens = [word for word in tokens if word not in stop_words and word.isalpha()]\n",
        "    # Reconstruct the text from the filtered tokens\n",
        "    cleaned_text = \" \".join(filtered_tokens)\n",
        "    return cleaned_text\n",
        "\n",
        "# Test Case\n",
        "Test_case_for_remove_stop_words= \"This is an example sentence, to demonstrate how to remove stopwords.\"\n",
        "cleaned_text = remove_stopwords(Test_case_for_remove_stop_words)\n",
        "print(cleaned_text)"
      ]
    },
    {
      "cell_type": "code",
      "execution_count": 16,
      "id": "29134265",
      "metadata": {
        "colab": {
          "base_uri": "https://localhost:8080/"
        },
        "id": "29134265",
        "outputId": "1d89c9f4-d3bc-4382-903c-3bd2d761f11d"
      },
      "outputs": [
        {
          "output_type": "stream",
          "name": "stdout",
          "text": [
            "I am going to the park, but I can not find my keys. They would not be happy about it.\n"
          ]
        }
      ],
      "source": [
        "# Expansion of English Contractions\n",
        "def contraction_expansion(content):\n",
        "  \"\"\"\n",
        "  Expand English Contracted words like won't, didn't.\n",
        "  \"\"\"\n",
        "  content = re.sub(r'won\\'t', 'would not', content)\n",
        "  content = re.sub(r'didn\\'t', 'did not', content)\n",
        "  content = re.sub(r'can\\'t', 'can not', content)\n",
        "  content = re.sub(r'don\\'t', 'do not', content)\n",
        "  content = re.sub(r'won\\'t', 'would not', content)\n",
        "  content = re.sub(r'doesn\\'t', 'does not', content)\n",
        "  content = re.sub(r'mightn\\'t', 'might not', content)\n",
        "  content = re.sub(r'shouldn\\'t', 'should not', content)\n",
        "  content = re.sub(r'weren\\'t', 'were not', content)\n",
        "  content = re.sub(r'hasn\\'t', 'has not', content)\n",
        "  content = re.sub(r'haven\\'t', 'have not', content)\n",
        "  content = re.sub(r'needn\\'t', 'need not', content)\n",
        "  content = re.sub(r'\\'re', ' are', content)\n",
        "  content = re.sub(r'\\'ve', ' have', content)\n",
        "  content = re.sub(r'\\'ll', ' will', content)\n",
        "  content = re.sub(r'\\'s', ' is', content)\n",
        "  content = re.sub(r'\\'m', ' am', content)\n",
        "  return content\n",
        "\n",
        "# Test Case For Words Contraction Expansion:\n",
        "Test_case_for_words_contraction_expansion = \"I'm going to the park, but I can't find my keys. They won't be happy about it.\"\n",
        "expanded_sample = contraction_expansion(Test_case_for_words_contraction_expansion)\n",
        "print(expanded_sample)\n"
      ]
    },
    {
      "cell_type": "code",
      "execution_count": 17,
      "id": "f3566f04",
      "metadata": {
        "colab": {
          "base_uri": "https://localhost:8080/"
        },
        "id": "f3566f04",
        "outputId": "67cc6f62-d1aa-404a-d60d-853588bf5cd8"
      },
      "outputs": [
        {
          "output_type": "stream",
          "name": "stdout",
          "text": [
            "Hello This example text contains special characters\n"
          ]
        }
      ],
      "source": [
        "## Remove Special Characters\n",
        "def remove_special_characters(content):\n",
        "    \"\"\"\n",
        "    Remove the Special Characters\n",
        "    \"\"\"\n",
        "    # Replacing special characters with\n",
        "    cleaned_text = re.sub(r'[^a-zA-Z0-9\\s]', '', content)\n",
        "    return cleaned_text\n",
        "\n",
        "# Test Case for Removing Special Characters\n",
        "Test_case_for_removing_special_characters = \"Hello!!! This (example) #text contains @special$ characters??.\"\n",
        "cleaned_text = remove_special_characters(Test_case_for_removing_special_characters)\n",
        "print(cleaned_text)\n"
      ]
    },
    {
      "cell_type": "code",
      "execution_count": 18,
      "id": "3654781e",
      "metadata": {
        "colab": {
          "base_uri": "https://localhost:8080/"
        },
        "id": "3654781e",
        "outputId": "e8274781-5297-4014-e7eb-5db49fb3a44a"
      },
      "outputs": [
        {
          "output_type": "stream",
          "name": "stdout",
          "text": [
            "Check out  or visit  for more info!\n"
          ]
        }
      ],
      "source": [
        "## Remove Urls\n",
        "def remove_urls(text):\n",
        "    \"\"\"\n",
        "    Remove URLs.\n",
        "    \"\"\"\n",
        "    # Replaces urls with a space\n",
        "    return re.sub(r'http\\S+|www\\.\\S+', '', text)\n",
        "\n",
        "# Test Case for removing URLs\n",
        "Test_case_for_removing_urls = \"Check out https://www.example.com or visit www.example.org for more info!\"\n",
        "cleaned_text = remove_urls(Test_case_for_removing_urls)\n",
        "print(cleaned_text)\n"
      ]
    },
    {
      "cell_type": "code",
      "execution_count": 19,
      "id": "c1f16702",
      "metadata": {
        "colab": {
          "base_uri": "https://localhost:8080/"
        },
        "id": "c1f16702",
        "outputId": "9a7398cd-992f-4b71-d226-2aae14479a9b"
      },
      "outputs": [
        {
          "output_type": "stream",
          "name": "stdout",
          "text": [
            "omg believe happened visit latest updates email testemailexampleorg amazing right also check bour blogb info seriouslythis best\n"
          ]
        }
      ],
      "source": [
        "def clean_text(content):\n",
        "    \"\"\"\n",
        "    Apply all the preprocessed funtions into one summarised function\n",
        "    \"\"\"\n",
        "    # Expand contractions\n",
        "    content = contraction_expansion(content)\n",
        "    # Remove URLs\n",
        "    content = remove_urls(content)\n",
        "    # Remove special characters\n",
        "    content = remove_special_characters(content)\n",
        "    # Remove stopwords (and make everything lowercase)\n",
        "    content = remove_stopwords(content)\n",
        "\n",
        "    return content\n",
        "\n",
        "## Test Case for Total cleaning\n",
        "Test_case_for_text_cleaning = (\n",
        "    \"OMG!!! I can't believe this happened... Visit https://www.coolstuff.com for \"\n",
        "    \"the latest updates, or email me at test_email@example.org. #Amazing, right? 🤩 \"\n",
        "    \"Also, check out <b>our blog</b> for more info. Seriously---this is the best!! 1234\"\n",
        ")\n",
        "cleaned_text = clean_text(Test_case_for_text_cleaning)\n",
        "print(cleaned_text)"
      ]
    },
    {
      "cell_type": "code",
      "execution_count": 20,
      "id": "13fb9907",
      "metadata": {
        "id": "13fb9907"
      },
      "outputs": [],
      "source": [
        "# Apply the cleaning function\n",
        "train_dataset[\"text\"] = train_dataset[\"text\"].apply(clean_text)\n",
        "test_dataset[\"text\"] = test_dataset[\"text\"].apply(clean_text)\n"
      ]
    },
    {
      "cell_type": "code",
      "execution_count": 21,
      "id": "6edeab4f",
      "metadata": {
        "id": "6edeab4f"
      },
      "outputs": [],
      "source": [
        "## Mapping the labels 1 and label 2 with Negative and Positive\n",
        "mapping_dict = {\n",
        "    '__label__1' : 'negative',\n",
        "    '__label__2'\t: 'positive'\n",
        "}\n",
        "\n",
        "train_dataset['labels'] = train_dataset['labels'].map(mapping_dict)\n",
        "test_dataset['labels'] = test_dataset['labels'].map(mapping_dict)\n"
      ]
    },
    {
      "cell_type": "code",
      "execution_count": 22,
      "id": "bddf3596",
      "metadata": {
        "id": "bddf3596",
        "outputId": "e45fcf43-1b79-4126-df0f-d7632d64c4b9",
        "colab": {
          "base_uri": "https://localhost:8080/",
          "height": 206
        }
      },
      "outputs": [
        {
          "output_type": "execute_result",
          "data": {
            "text/plain": [
              "     labels                                               text\n",
              "0  positive  stuning even nongamer sound track beautiful pa...\n",
              "1  positive  best soundtrack ever anything reading lot revi...\n",
              "2  positive  amazing soundtrack favorite music time hands i...\n",
              "3  positive  excellent soundtrack truly like soundtrack enj...\n",
              "4  positive  remember pull jaw floor hearing played game kn..."
            ],
            "text/html": [
              "\n",
              "  <div id=\"df-0e994b23-ae3b-4e61-b85d-ef538ab02d68\" class=\"colab-df-container\">\n",
              "    <div>\n",
              "<style scoped>\n",
              "    .dataframe tbody tr th:only-of-type {\n",
              "        vertical-align: middle;\n",
              "    }\n",
              "\n",
              "    .dataframe tbody tr th {\n",
              "        vertical-align: top;\n",
              "    }\n",
              "\n",
              "    .dataframe thead th {\n",
              "        text-align: right;\n",
              "    }\n",
              "</style>\n",
              "<table border=\"1\" class=\"dataframe\">\n",
              "  <thead>\n",
              "    <tr style=\"text-align: right;\">\n",
              "      <th></th>\n",
              "      <th>labels</th>\n",
              "      <th>text</th>\n",
              "    </tr>\n",
              "  </thead>\n",
              "  <tbody>\n",
              "    <tr>\n",
              "      <th>0</th>\n",
              "      <td>positive</td>\n",
              "      <td>stuning even nongamer sound track beautiful pa...</td>\n",
              "    </tr>\n",
              "    <tr>\n",
              "      <th>1</th>\n",
              "      <td>positive</td>\n",
              "      <td>best soundtrack ever anything reading lot revi...</td>\n",
              "    </tr>\n",
              "    <tr>\n",
              "      <th>2</th>\n",
              "      <td>positive</td>\n",
              "      <td>amazing soundtrack favorite music time hands i...</td>\n",
              "    </tr>\n",
              "    <tr>\n",
              "      <th>3</th>\n",
              "      <td>positive</td>\n",
              "      <td>excellent soundtrack truly like soundtrack enj...</td>\n",
              "    </tr>\n",
              "    <tr>\n",
              "      <th>4</th>\n",
              "      <td>positive</td>\n",
              "      <td>remember pull jaw floor hearing played game kn...</td>\n",
              "    </tr>\n",
              "  </tbody>\n",
              "</table>\n",
              "</div>\n",
              "    <div class=\"colab-df-buttons\">\n",
              "\n",
              "  <div class=\"colab-df-container\">\n",
              "    <button class=\"colab-df-convert\" onclick=\"convertToInteractive('df-0e994b23-ae3b-4e61-b85d-ef538ab02d68')\"\n",
              "            title=\"Convert this dataframe to an interactive table.\"\n",
              "            style=\"display:none;\">\n",
              "\n",
              "  <svg xmlns=\"http://www.w3.org/2000/svg\" height=\"24px\" viewBox=\"0 -960 960 960\">\n",
              "    <path d=\"M120-120v-720h720v720H120Zm60-500h600v-160H180v160Zm220 220h160v-160H400v160Zm0 220h160v-160H400v160ZM180-400h160v-160H180v160Zm440 0h160v-160H620v160ZM180-180h160v-160H180v160Zm440 0h160v-160H620v160Z\"/>\n",
              "  </svg>\n",
              "    </button>\n",
              "\n",
              "  <style>\n",
              "    .colab-df-container {\n",
              "      display:flex;\n",
              "      gap: 12px;\n",
              "    }\n",
              "\n",
              "    .colab-df-convert {\n",
              "      background-color: #E8F0FE;\n",
              "      border: none;\n",
              "      border-radius: 50%;\n",
              "      cursor: pointer;\n",
              "      display: none;\n",
              "      fill: #1967D2;\n",
              "      height: 32px;\n",
              "      padding: 0 0 0 0;\n",
              "      width: 32px;\n",
              "    }\n",
              "\n",
              "    .colab-df-convert:hover {\n",
              "      background-color: #E2EBFA;\n",
              "      box-shadow: 0px 1px 2px rgba(60, 64, 67, 0.3), 0px 1px 3px 1px rgba(60, 64, 67, 0.15);\n",
              "      fill: #174EA6;\n",
              "    }\n",
              "\n",
              "    .colab-df-buttons div {\n",
              "      margin-bottom: 4px;\n",
              "    }\n",
              "\n",
              "    [theme=dark] .colab-df-convert {\n",
              "      background-color: #3B4455;\n",
              "      fill: #D2E3FC;\n",
              "    }\n",
              "\n",
              "    [theme=dark] .colab-df-convert:hover {\n",
              "      background-color: #434B5C;\n",
              "      box-shadow: 0px 1px 3px 1px rgba(0, 0, 0, 0.15);\n",
              "      filter: drop-shadow(0px 1px 2px rgba(0, 0, 0, 0.3));\n",
              "      fill: #FFFFFF;\n",
              "    }\n",
              "  </style>\n",
              "\n",
              "    <script>\n",
              "      const buttonEl =\n",
              "        document.querySelector('#df-0e994b23-ae3b-4e61-b85d-ef538ab02d68 button.colab-df-convert');\n",
              "      buttonEl.style.display =\n",
              "        google.colab.kernel.accessAllowed ? 'block' : 'none';\n",
              "\n",
              "      async function convertToInteractive(key) {\n",
              "        const element = document.querySelector('#df-0e994b23-ae3b-4e61-b85d-ef538ab02d68');\n",
              "        const dataTable =\n",
              "          await google.colab.kernel.invokeFunction('convertToInteractive',\n",
              "                                                    [key], {});\n",
              "        if (!dataTable) return;\n",
              "\n",
              "        const docLinkHtml = 'Like what you see? Visit the ' +\n",
              "          '<a target=\"_blank\" href=https://colab.research.google.com/notebooks/data_table.ipynb>data table notebook</a>'\n",
              "          + ' to learn more about interactive tables.';\n",
              "        element.innerHTML = '';\n",
              "        dataTable['output_type'] = 'display_data';\n",
              "        await google.colab.output.renderOutput(dataTable, element);\n",
              "        const docLink = document.createElement('div');\n",
              "        docLink.innerHTML = docLinkHtml;\n",
              "        element.appendChild(docLink);\n",
              "      }\n",
              "    </script>\n",
              "  </div>\n",
              "\n",
              "\n",
              "    <div id=\"df-81ab5fdf-0b52-4c2e-b8c4-d037c6185086\">\n",
              "      <button class=\"colab-df-quickchart\" onclick=\"quickchart('df-81ab5fdf-0b52-4c2e-b8c4-d037c6185086')\"\n",
              "                title=\"Suggest charts\"\n",
              "                style=\"display:none;\">\n",
              "\n",
              "<svg xmlns=\"http://www.w3.org/2000/svg\" height=\"24px\"viewBox=\"0 0 24 24\"\n",
              "     width=\"24px\">\n",
              "    <g>\n",
              "        <path d=\"M19 3H5c-1.1 0-2 .9-2 2v14c0 1.1.9 2 2 2h14c1.1 0 2-.9 2-2V5c0-1.1-.9-2-2-2zM9 17H7v-7h2v7zm4 0h-2V7h2v10zm4 0h-2v-4h2v4z\"/>\n",
              "    </g>\n",
              "</svg>\n",
              "      </button>\n",
              "\n",
              "<style>\n",
              "  .colab-df-quickchart {\n",
              "      --bg-color: #E8F0FE;\n",
              "      --fill-color: #1967D2;\n",
              "      --hover-bg-color: #E2EBFA;\n",
              "      --hover-fill-color: #174EA6;\n",
              "      --disabled-fill-color: #AAA;\n",
              "      --disabled-bg-color: #DDD;\n",
              "  }\n",
              "\n",
              "  [theme=dark] .colab-df-quickchart {\n",
              "      --bg-color: #3B4455;\n",
              "      --fill-color: #D2E3FC;\n",
              "      --hover-bg-color: #434B5C;\n",
              "      --hover-fill-color: #FFFFFF;\n",
              "      --disabled-bg-color: #3B4455;\n",
              "      --disabled-fill-color: #666;\n",
              "  }\n",
              "\n",
              "  .colab-df-quickchart {\n",
              "    background-color: var(--bg-color);\n",
              "    border: none;\n",
              "    border-radius: 50%;\n",
              "    cursor: pointer;\n",
              "    display: none;\n",
              "    fill: var(--fill-color);\n",
              "    height: 32px;\n",
              "    padding: 0;\n",
              "    width: 32px;\n",
              "  }\n",
              "\n",
              "  .colab-df-quickchart:hover {\n",
              "    background-color: var(--hover-bg-color);\n",
              "    box-shadow: 0 1px 2px rgba(60, 64, 67, 0.3), 0 1px 3px 1px rgba(60, 64, 67, 0.15);\n",
              "    fill: var(--button-hover-fill-color);\n",
              "  }\n",
              "\n",
              "  .colab-df-quickchart-complete:disabled,\n",
              "  .colab-df-quickchart-complete:disabled:hover {\n",
              "    background-color: var(--disabled-bg-color);\n",
              "    fill: var(--disabled-fill-color);\n",
              "    box-shadow: none;\n",
              "  }\n",
              "\n",
              "  .colab-df-spinner {\n",
              "    border: 2px solid var(--fill-color);\n",
              "    border-color: transparent;\n",
              "    border-bottom-color: var(--fill-color);\n",
              "    animation:\n",
              "      spin 1s steps(1) infinite;\n",
              "  }\n",
              "\n",
              "  @keyframes spin {\n",
              "    0% {\n",
              "      border-color: transparent;\n",
              "      border-bottom-color: var(--fill-color);\n",
              "      border-left-color: var(--fill-color);\n",
              "    }\n",
              "    20% {\n",
              "      border-color: transparent;\n",
              "      border-left-color: var(--fill-color);\n",
              "      border-top-color: var(--fill-color);\n",
              "    }\n",
              "    30% {\n",
              "      border-color: transparent;\n",
              "      border-left-color: var(--fill-color);\n",
              "      border-top-color: var(--fill-color);\n",
              "      border-right-color: var(--fill-color);\n",
              "    }\n",
              "    40% {\n",
              "      border-color: transparent;\n",
              "      border-right-color: var(--fill-color);\n",
              "      border-top-color: var(--fill-color);\n",
              "    }\n",
              "    60% {\n",
              "      border-color: transparent;\n",
              "      border-right-color: var(--fill-color);\n",
              "    }\n",
              "    80% {\n",
              "      border-color: transparent;\n",
              "      border-right-color: var(--fill-color);\n",
              "      border-bottom-color: var(--fill-color);\n",
              "    }\n",
              "    90% {\n",
              "      border-color: transparent;\n",
              "      border-bottom-color: var(--fill-color);\n",
              "    }\n",
              "  }\n",
              "</style>\n",
              "\n",
              "      <script>\n",
              "        async function quickchart(key) {\n",
              "          const quickchartButtonEl =\n",
              "            document.querySelector('#' + key + ' button');\n",
              "          quickchartButtonEl.disabled = true;  // To prevent multiple clicks.\n",
              "          quickchartButtonEl.classList.add('colab-df-spinner');\n",
              "          try {\n",
              "            const charts = await google.colab.kernel.invokeFunction(\n",
              "                'suggestCharts', [key], {});\n",
              "          } catch (error) {\n",
              "            console.error('Error during call to suggestCharts:', error);\n",
              "          }\n",
              "          quickchartButtonEl.classList.remove('colab-df-spinner');\n",
              "          quickchartButtonEl.classList.add('colab-df-quickchart-complete');\n",
              "        }\n",
              "        (() => {\n",
              "          let quickchartButtonEl =\n",
              "            document.querySelector('#df-81ab5fdf-0b52-4c2e-b8c4-d037c6185086 button');\n",
              "          quickchartButtonEl.style.display =\n",
              "            google.colab.kernel.accessAllowed ? 'block' : 'none';\n",
              "        })();\n",
              "      </script>\n",
              "    </div>\n",
              "\n",
              "    </div>\n",
              "  </div>\n"
            ],
            "application/vnd.google.colaboratory.intrinsic+json": {
              "type": "dataframe",
              "variable_name": "train_dataset"
            }
          },
          "metadata": {},
          "execution_count": 22
        }
      ],
      "source": [
        "train_dataset.head()\n"
      ]
    },
    {
      "cell_type": "code",
      "execution_count": 1,
      "id": "276c5693",
      "metadata": {
        "id": "276c5693",
        "outputId": "cddb814b-eb33-4976-f3bf-a663bdffbecf",
        "colab": {
          "base_uri": "https://localhost:8080/",
          "height": 176
        }
      },
      "outputs": [
        {
          "output_type": "error",
          "ename": "NameError",
          "evalue": "name 'train_dataset' is not defined",
          "traceback": [
            "\u001b[0;31m---------------------------------------------------------------------------\u001b[0m",
            "\u001b[0;31mNameError\u001b[0m                                 Traceback (most recent call last)",
            "\u001b[0;32m<ipython-input-1-93e0ae1067e2>\u001b[0m in \u001b[0;36m<cell line: 0>\u001b[0;34m()\u001b[0m\n\u001b[1;32m      1\u001b[0m \u001b[0;31m# checking the value counts for both positive and negative in each dataset\u001b[0m\u001b[0;34m\u001b[0m\u001b[0;34m\u001b[0m\u001b[0m\n\u001b[0;32m----> 2\u001b[0;31m \u001b[0mprint\u001b[0m\u001b[0;34m(\u001b[0m\u001b[0mtrain_dataset\u001b[0m\u001b[0;34m[\u001b[0m\u001b[0;34m'labels'\u001b[0m\u001b[0;34m]\u001b[0m\u001b[0;34m.\u001b[0m\u001b[0mvalue_counts\u001b[0m\u001b[0;34m(\u001b[0m\u001b[0;34m)\u001b[0m\u001b[0;34m)\u001b[0m\u001b[0;34m\u001b[0m\u001b[0;34m\u001b[0m\u001b[0m\n\u001b[0m\u001b[1;32m      3\u001b[0m \u001b[0mprint\u001b[0m\u001b[0;34m(\u001b[0m\u001b[0mtest_dataset\u001b[0m\u001b[0;34m[\u001b[0m\u001b[0;34m'labels'\u001b[0m\u001b[0;34m]\u001b[0m\u001b[0;34m.\u001b[0m\u001b[0mvalue_counts\u001b[0m\u001b[0;34m(\u001b[0m\u001b[0;34m)\u001b[0m\u001b[0;34m)\u001b[0m\u001b[0;34m\u001b[0m\u001b[0;34m\u001b[0m\u001b[0m\n",
            "\u001b[0;31mNameError\u001b[0m: name 'train_dataset' is not defined"
          ]
        }
      ],
      "source": [
        "# checking the value counts for both positive and negative in each dataset\n",
        "print(train_dataset['labels'].value_counts())\n",
        "print(test_dataset['labels'].value_counts())\n"
      ]
    },
    {
      "cell_type": "code",
      "execution_count": null,
      "id": "5afaff70",
      "metadata": {
        "id": "5afaff70"
      },
      "outputs": [],
      "source": [
        "## Word Frequency\n",
        "## Checking for the most common words used\n",
        "from collections import Counter\n",
        "\n",
        "# Combine all reviews into one large text (already cleaned)\n",
        "all_text = \" \".join(train_dataset[\"text\"].tolist())\n",
        "\n",
        "# Split into individual words/tokens\n",
        "tokens = all_text.split()\n",
        "\n",
        "# Count word frequencies\n",
        "word_freq = Counter(tokens)\n",
        "\n",
        "# Show the 20 most common words\n",
        "print(word_freq.most_common(20))\n"
      ]
    },
    {
      "cell_type": "code",
      "execution_count": 31,
      "id": "41fa46d7",
      "metadata": {
        "id": "41fa46d7",
        "outputId": "dc735a41-d0a6-4271-c08e-6f03e4d16523",
        "colab": {
          "base_uri": "https://localhost:8080/",
          "height": 211
        }
      },
      "outputs": [
        {
          "output_type": "error",
          "ename": "NameError",
          "evalue": "name 'word_freq' is not defined",
          "traceback": [
            "\u001b[0;31m---------------------------------------------------------------------------\u001b[0m",
            "\u001b[0;31mNameError\u001b[0m                                 Traceback (most recent call last)",
            "\u001b[0;32m<ipython-input-31-071bdaa901da>\u001b[0m in \u001b[0;36m<cell line: 0>\u001b[0;34m()\u001b[0m\n\u001b[1;32m      1\u001b[0m \u001b[0;31m# The top 20 Most Common words within the dataset visualised\u001b[0m\u001b[0;34m\u001b[0m\u001b[0;34m\u001b[0m\u001b[0m\n\u001b[0;32m----> 2\u001b[0;31m \u001b[0mcommon_words\u001b[0m \u001b[0;34m=\u001b[0m \u001b[0mword_freq\u001b[0m\u001b[0;34m.\u001b[0m\u001b[0mmost_common\u001b[0m\u001b[0;34m(\u001b[0m\u001b[0;36m20\u001b[0m\u001b[0;34m)\u001b[0m\u001b[0;34m\u001b[0m\u001b[0;34m\u001b[0m\u001b[0m\n\u001b[0m\u001b[1;32m      3\u001b[0m \u001b[0mwords\u001b[0m \u001b[0;34m=\u001b[0m \u001b[0;34m[\u001b[0m\u001b[0mw\u001b[0m\u001b[0;34m[\u001b[0m\u001b[0;36m0\u001b[0m\u001b[0;34m]\u001b[0m \u001b[0;32mfor\u001b[0m \u001b[0mw\u001b[0m \u001b[0;32min\u001b[0m \u001b[0mcommon_words\u001b[0m\u001b[0;34m]\u001b[0m\u001b[0;34m\u001b[0m\u001b[0;34m\u001b[0m\u001b[0m\n\u001b[1;32m      4\u001b[0m \u001b[0mcounts\u001b[0m \u001b[0;34m=\u001b[0m \u001b[0;34m[\u001b[0m\u001b[0mw\u001b[0m\u001b[0;34m[\u001b[0m\u001b[0;36m1\u001b[0m\u001b[0;34m]\u001b[0m \u001b[0;32mfor\u001b[0m \u001b[0mw\u001b[0m \u001b[0;32min\u001b[0m \u001b[0mcommon_words\u001b[0m\u001b[0;34m]\u001b[0m\u001b[0;34m\u001b[0m\u001b[0;34m\u001b[0m\u001b[0m\n\u001b[1;32m      5\u001b[0m \u001b[0;34m\u001b[0m\u001b[0m\n",
            "\u001b[0;31mNameError\u001b[0m: name 'word_freq' is not defined"
          ]
        }
      ],
      "source": [
        "# The top 20 Most Common words within the dataset visualised\n",
        "common_words = word_freq.most_common(20)\n",
        "words = [w[0] for w in common_words]\n",
        "counts = [w[1] for w in common_words]\n",
        "\n",
        "plt.figure(figsize=(5,2))\n",
        "sns.barplot(x=counts, y=words, palette=\"coolwarm\")\n",
        "plt.title(\"Top 10 Most Common Words\")\n",
        "plt.xlabel(\"Frequency\")\n",
        "plt.ylabel(\"Word\")\n",
        "plt.show()\n"
      ]
    },
    {
      "cell_type": "code",
      "execution_count": null,
      "id": "54ba51ff",
      "metadata": {
        "id": "54ba51ff",
        "outputId": "63ba0839-ae1a-4372-e975-0ffc18451a1a"
      },
      "outputs": [
        {
          "data": {
            "image/png": "[encoded data removed]",
            "text/plain": [
              "<Figure size 1000x600 with 1 Axes>"
            ]
          },
          "metadata": {},
          "output_type": "display_data"
        }
      ],
      "source": [
        "## Word CLoud\n",
        "\n",
        "wordcloud = WordCloud(background_color=\"white\", max_words=100).generate(all_text)\n",
        "\n",
        "plt.figure(figsize=(5, 3))\n",
        "plt.imshow(wordcloud, interpolation=\"bilinear\")\n",
        "plt.axis(\"off\")\n",
        "plt.title(\"Word Cloud of Top Words\")\n",
        "plt.show()\n"
      ]
    },
    {
      "cell_type": "code",
      "execution_count": null,
      "id": "609226ee",
      "metadata": {
        "id": "609226ee",
        "outputId": "da38f953-3e0a-4c44-8b5a-63fb9516355a"
      },
      "outputs": [
        {
          "name": "stdout",
          "output_type": "stream",
          "text": [
            "[(('waste', 'money'), 9848), (('read', 'book'), 9790), (('would', 'recommend'), 8061), (('one', 'best'), 6657), (('year', 'old'), 6469), (('much', 'better'), 6465), (('highly', 'recommend'), 6283), (('waste', 'time'), 6054), (('great', 'book'), 5398), (('years', 'ago'), 5168)]\n"
          ]
        }
      ],
      "source": [
        "## Checking for multi-word phrases that might carry strong sentiment\n",
        "from nltk import ngrams\n",
        "\n",
        "tokens = all_text.split()\n",
        "bigrams = list(ngrams(tokens, 2))\n",
        "trigram_freq = Counter(bigrams)\n",
        "print(trigram_freq.most_common(10))\n"
      ]
    },
    {
      "cell_type": "markdown",
      "id": "41af471a",
      "metadata": {
        "id": "41af471a"
      },
      "source": [
        "### MODEL TRAINING AND EVALUATION"
      ]
    },
    {
      "cell_type": "code",
      "execution_count": null,
      "id": "58976df5",
      "metadata": {
        "id": "58976df5"
      },
      "outputs": [],
      "source": [
        "## Importing Libraries\n",
        "from sklearn.linear_model import LogisticRegression\n",
        "from sklearn.metrics import accuracy_score, f1_score, precision_score, recall_score\n",
        "from sklearn.svm import LinearSVC\n",
        "from sklearn.ensemble import RandomForestClassifier\n",
        "import xgboost as xgb\n"
      ]
    },
    {
      "cell_type": "code",
      "execution_count": null,
      "id": "a9a40927",
      "metadata": {
        "id": "a9a40927",
        "outputId": "81f274cd-45cf-414e-8a13-1b82f8adbc7c"
      },
      "outputs": [
        {
          "name": "stdout",
          "output_type": "stream",
          "text": [
            "(320000, 2) (80000, 2)\n"
          ]
        }
      ],
      "source": [
        "## split the training dataset into train set and validation set\n",
        "train_df, val_df = train_test_split(train_dataset, test_size=0.2, random_state=42, stratify=train_dataset[\"labels\"])\n",
        "print(train_df.shape, val_df.shape)\n"
      ]
    },
    {
      "cell_type": "code",
      "execution_count": null,
      "id": "caf9874a",
      "metadata": {
        "id": "caf9874a"
      },
      "outputs": [],
      "source": [
        "## Prepare Data for Vectorization\n",
        "X_train = train_df[\"text\"]\n",
        "y_train = train_df[\"labels\"]\n",
        "\n",
        "X_val = val_df[\"text\"]\n",
        "y_val = val_df[\"labels\"]\n",
        "\n",
        "X_test = test_dataset[\"text\"]\n",
        "y_test = test_dataset[\"labels\"]\n"
      ]
    },
    {
      "cell_type": "code",
      "execution_count": null,
      "id": "ff0aada3",
      "metadata": {
        "id": "ff0aada3"
      },
      "outputs": [],
      "source": [
        "## Initialising TFidfVectorizer\n",
        "tfidf = TfidfVectorizer(\n",
        "    max_features=10000,\n",
        "    ngram_range=(1, 2),\n",
        "    stop_words=None\n",
        ")\n",
        "\n",
        "# Fit on training data and transform\n",
        "X_train_tfidf = tfidf.fit_transform(X_train)\n",
        "\n",
        "# Transform validation and test data\n",
        "X_val_tfidf = tfidf.transform(X_val)\n",
        "X_test_tfidf = tfidf.transform(X_test)\n",
        "\n"
      ]
    },
    {
      "cell_type": "markdown",
      "id": "9de34c13",
      "metadata": {
        "id": "9de34c13"
      },
      "source": [
        "## Logistic Regression"
      ]
    },
    {
      "cell_type": "code",
      "execution_count": null,
      "id": "c19f3e2d",
      "metadata": {
        "id": "c19f3e2d",
        "outputId": "6ae472fc-1516-4249-9869-c926b8bffae9"
      },
      "outputs": [
        {
          "name": "stdout",
          "output_type": "stream",
          "text": [
            "Logistic Regression -> Accuracy: 0.90015 Precision: 0.897723884305735 Recall: 0.9032 F1: 0.9001490711367343\n"
          ]
        }
      ],
      "source": [
        "# Logistic Regression\n",
        "lr_model = LogisticRegression(solver='saga',max_iter=1000,n_jobs=-1)\n",
        "\n",
        "lr_model.fit(X_train_tfidf, y_train)\n",
        "\n",
        "val_preds = lr_model.predict(X_val_tfidf)\n",
        "accuracy = accuracy_score(y_val, val_preds)\n",
        "precision = precision_score(y_val, val_preds,pos_label='positive')\n",
        "recall = recall_score(y_val,val_preds,pos_label='positive')\n",
        "f1 = f1_score(y_val, val_preds, average='macro')\n",
        "print(\"Logistic Regression -> Accuracy:\", accuracy, \"Precision:\",precision,\"Recall:\",recall,\"F1:\", f1)\n"
      ]
    },
    {
      "cell_type": "markdown",
      "id": "cbf03e56",
      "metadata": {
        "id": "cbf03e56"
      },
      "source": [
        "## Support Vector Machine (SVM)"
      ]
    },
    {
      "cell_type": "code",
      "execution_count": null,
      "id": "928514ab",
      "metadata": {
        "id": "928514ab",
        "outputId": "74f9866b-fb18-42b9-92c9-329c3b6dc8e5"
      },
      "outputs": [
        {
          "name": "stdout",
          "output_type": "stream",
          "text": [
            "SVM -> Accuracy: 0.8991125 Precision: 0.8962692680020851 Recall: 0.9027 F1: 0.8991112015453999\n"
          ]
        }
      ],
      "source": [
        "# Support Vector Machine Classifier\n",
        "svm_model = LinearSVC(max_iter=2000)\n",
        "svm_model.fit(X_train_tfidf, y_train)\n",
        "\n",
        "val_preds = svm_model.predict(X_val_tfidf)\n",
        "accuracy = accuracy_score(y_val, val_preds)\n",
        "precision = precision_score(y_val, val_preds,pos_label='positive')\n",
        "recall = recall_score(y_val,val_preds,pos_label='positive')\n",
        "f1 = f1_score(y_val, val_preds, average='macro')\n",
        "print(\"SVM -> Accuracy:\", accuracy,\"Precision:\",precision,\"Recall:\",recall,\"F1:\", f1)\n"
      ]
    },
    {
      "cell_type": "markdown",
      "id": "dbc4f8df",
      "metadata": {
        "id": "dbc4f8df"
      },
      "source": [
        "## Random Forest"
      ]
    },
    {
      "cell_type": "code",
      "execution_count": null,
      "id": "923904e4",
      "metadata": {
        "id": "923904e4",
        "outputId": "575a2436-667a-4b38-984f-663b3a2c93f2"
      },
      "outputs": [
        {
          "name": "stdout",
          "output_type": "stream",
          "text": [
            "Random Forest -> Accuracy: 0.8607875 Precision: 0.8609589555038644 Recall: 0.86055 F1: 0.8607874921475445\n"
          ]
        }
      ],
      "source": [
        "# Random Forest Model\n",
        "rf_model = RandomForestClassifier(n_estimators=100,max_depth=None,n_jobs=-1)\n",
        "rf_model.fit(X_train_tfidf, y_train)\n",
        "\n",
        "val_preds = rf_model.predict(X_val_tfidf)\n",
        "accuracy = accuracy_score(y_val, val_preds)\n",
        "precision = precision_score(y_val, val_preds,pos_label='positive')\n",
        "recall = recall_score(y_val,val_preds,pos_label='positive')\n",
        "f1 = f1_score(y_val, val_preds, average='macro')\n",
        "print(\"Random Forest -> Accuracy:\", accuracy,\"Precision:\",precision,\"Recall:\",recall,\"F1:\", f1)\n"
      ]
    },
    {
      "cell_type": "markdown",
      "id": "f78d017f",
      "metadata": {
        "id": "f78d017f"
      },
      "source": [
        "## XGBoost"
      ]
    },
    {
      "cell_type": "code",
      "execution_count": null,
      "id": "67d4e727",
      "metadata": {
        "id": "67d4e727",
        "outputId": "c2fd1d5d-7213-436e-f5a8-f7b3e87425fd"
      },
      "outputs": [
        {
          "name": "stdout",
          "output_type": "stream",
          "text": [
            "XGBoost -> Accuracy: 0.8437875 Precision: 0.8470410094637224 Recall: 0.8391 F1: 0.8437840675210149\n"
          ]
        }
      ],
      "source": [
        "# XGBoost Model\n",
        "xgb_model = xgb.XGBClassifier(\n",
        "    n_estimators=200,\n",
        "    max_depth=6,\n",
        "    learning_rate=0.1,\n",
        "    use_label_encoder=False,\n",
        "    eval_metric=\"logloss\"\n",
        ")\n",
        "mapping = {\"negative\": 0, \"positive\": 1}\n",
        "y_train_map = y_train.map(mapping)\n",
        "y_val_map = y_val.map(mapping)\n",
        "\n",
        "xgb_model.fit(X_train_tfidf, y_train_map)\n",
        "\n",
        "val_preds = xgb_model.predict(X_val_tfidf)\n",
        "accuracy = accuracy_score(y_val_map, val_preds)\n",
        "precision = precision_score(y_val_map, val_preds,pos_label=1)\n",
        "recall = recall_score(y_val_map,val_preds,pos_label=1)\n",
        "f1 = f1_score(y_val_map, val_preds, average='macro')\n",
        "print(\"XGBoost -> Accuracy:\", accuracy,\"Precision:\",precision,\"Recall:\",recall, \"F1:\", f1)\n"
      ]
    },
    {
      "cell_type": "markdown",
      "id": "622c9ab8",
      "metadata": {
        "id": "622c9ab8"
      },
      "source": [
        "### Final Evaluation on the Test Set"
      ]
    },
    {
      "cell_type": "code",
      "execution_count": null,
      "id": "4f59bf65",
      "metadata": {
        "id": "4f59bf65",
        "outputId": "f5945fd6-313a-40db-c20a-2e7ec50b5962"
      },
      "outputs": [
        {
          "name": "stdout",
          "output_type": "stream",
          "text": [
            "Test Accuracy: 0.8992\n",
            "Test F1 Score: 0.8995\n",
            "Classification Report (Test):\n",
            "              precision    recall  f1-score   support\n",
            "\n",
            "    negative       0.90      0.90      0.90   1800001\n",
            "    positive       0.90      0.90      0.90   1800009\n",
            "\n",
            "    accuracy                           0.90   3600010\n",
            "   macro avg       0.90      0.90      0.90   3600010\n",
            "weighted avg       0.90      0.90      0.90   3600010\n",
            "\n"
          ]
        },
        {
          "data": {
            "image/png": "[encoded data removed]",
            "text/plain": [
              "<Figure size 640x480 with 2 Axes>"
            ]
          },
          "metadata": {},
          "output_type": "display_data"
        }
      ],
      "source": [
        "## Applying Logistic Regression on the Test Set\n",
        "test_preds = lr_model.predict(X_test_tfidf)\n",
        "\n",
        "test_accuracy = accuracy_score(y_test, test_preds)\n",
        "test_f1 = f1_score(y_test, test_preds, pos_label=\"positive\")\n",
        "\n",
        "print(f\"Test Accuracy: {test_accuracy:.4f}\")\n",
        "print(f\"Test F1 Score: {test_f1:.4f}\")\n",
        "\n",
        "print(\"Classification Report (Test):\")\n",
        "print(classification_report(y_test, test_preds))\n",
        "\n",
        "# Confusion matrix\n",
        "cm = confusion_matrix(y_test, test_preds, labels=[\"negative\", \"positive\"])\n",
        "sns.heatmap(cm, annot=True, fmt='d', cmap='Blues',\n",
        "            xticklabels=[\"negative\", \"positive\"],\n",
        "            yticklabels=[\"negative\", \"positive\"])\n",
        "plt.xlabel(\"Predicted\")\n",
        "plt.ylabel(\"True\")\n",
        "plt.title(\"Confusion Matrix (Test Set)\")\n",
        "plt.show()\n"
      ]
    },
    {
      "cell_type": "markdown",
      "id": "7cbbf27d",
      "metadata": {
        "id": "7cbbf27d"
      },
      "source": [
        "### SAVE MODEL AND VECTORIZER"
      ]
    },
    {
      "cell_type": "code",
      "execution_count": null,
      "id": "e130ed78",
      "metadata": {
        "id": "e130ed78"
      },
      "outputs": [],
      "source": [
        "import pickle\n",
        "\n",
        "with open(\"tfidf_vectorizer.pkl\", \"wb\") as f:\n",
        "    pickle.dump(tfidf, f)\n",
        "\n",
        "with open(\"sentiment_model.pkl\", \"wb\") as f:\n",
        "    pickle.dump(lr_model, f)\n"
      ]
    },
    {
      "cell_type": "code",
      "execution_count": null,
      "id": "ea54f7ec",
      "metadata": {
        "id": "ea54f7ec",
        "outputId": "9a1ea9ab-4934-4840-d557-6c5598206b22"
      },
      "outputs": [
        {
          "name": "stdout",
          "output_type": "stream",
          "text": [
            "['positive']\n"
          ]
        }
      ],
      "source": [
        "with open(\"tfidf_vectorizer.pkl\", \"rb\") as f:\n",
        "    tfidf_loaded = pickle.load(f)\n",
        "\n",
        "with open(\"sentiment_model.pkl\", \"rb\") as f:\n",
        "    model_loaded = pickle.load(f)\n",
        "\n",
        "# Quick test\n",
        "sample_text = [\"This product is amazing!\"]\n",
        "sample_vector = tfidf_loaded.transform(sample_text)\n",
        "sample_prediction = model_loaded.predict(sample_vector)\n",
        "print(sample_prediction)"
      ]
    },
    {
      "cell_type": "markdown",
      "id": "6328c073",
      "metadata": {
        "id": "6328c073"
      },
      "source": [
        "### TRANSFORMER MODEL: HUGGING FACE TRANSFORMER"
      ]
    },
    {
      "cell_type": "code",
      "execution_count": null,
      "id": "1be70d06",
      "metadata": {
        "id": "1be70d06"
      },
      "outputs": [],
      "source": [
        "from transformers import AutoTokenizer, AutoModelForSequenceClassification, Trainer, TrainingArguments\n",
        "import torch"
      ]
    },
    {
      "cell_type": "code",
      "execution_count": null,
      "id": "8d5e1787",
      "metadata": {
        "id": "8d5e1787"
      },
      "outputs": [],
      "source": [
        "# Define a mapping for your labels\n",
        "label_mapping = {\"negative\": 0, \"positive\": 1}\n",
        "\n",
        "## Prepare list for tekenization\n",
        "X_train = train_df[\"text\"].tolist()\n",
        "y_train = train_df[\"labels\"].tolist()\n",
        "X_val = val_df[\"text\"].tolist()\n",
        "y_val = val_df[\"labels\"].tolist()\n",
        "X_test = test_dataset[\"text\"].tolist()\n",
        "y_test = test_dataset[\"labels\"].tolist()\n",
        "\n",
        "# Define the subset sizes\n",
        "subset_train_size = 1000   # Use 1,000 samples for training\n",
        "subset_val_size   = 200   # Use 200 samples for validation\n",
        "subset_test_size  = 500    # Use 500 samples for testing\n",
        "\n",
        "# Create subsets by slicing the lists\n",
        "X_train = X_train[:subset_train_size]\n",
        "y_train = y_train[:subset_train_size]\n",
        "X_test = X_test[:subset_test_size]\n",
        "y_test = y_test[:subset_test_size]\n",
        "\n",
        "X_val = X_val[:subset_val_size]\n",
        "y_val = y_val[:subset_val_size]\n",
        "\n",
        "# Convert the labels in the training, validation, and test sets\n",
        "y_train = [label_mapping[label] for label in y_train]\n",
        "y_val = [label_mapping[label] for label in y_val]\n",
        "y_test = [label_mapping[label] for label in y_test]"
      ]
    },
    {
      "cell_type": "code",
      "execution_count": null,
      "id": "31e1c64c",
      "metadata": {
        "id": "31e1c64c"
      },
      "outputs": [],
      "source": [
        "## Tokenize with Hugging Face Transformer\n",
        "local_model_path = \"/kaggle/input/bertbaseuncased/bert-base-uncased\"\n",
        "tokenizer = AutoTokenizer.from_pretrained(local_model_path, local_files_only=True)"
      ]
    },
    {
      "cell_type": "code",
      "execution_count": null,
      "id": "4fabd3f9",
      "metadata": {
        "id": "4fabd3f9"
      },
      "outputs": [],
      "source": [
        "## Tokenize the datasets (padding and truncation for uniform input size)\n",
        "def batch_tokenize(texts, batch_size=1000, max_length=128):\n",
        "    all_encodings = {\"input_ids\": [], \"attention_mask\": []}\n",
        "    for i in range(0, len(texts), batch_size):\n",
        "        batch = texts[i:i + batch_size]\n",
        "        encoding = tokenizer(batch, truncation=True, padding=\"max_length\", max_length=max_length)\n",
        "        all_encodings[\"input_ids\"].extend(encoding[\"input_ids\"])\n",
        "        all_encodings[\"attention_mask\"].extend(encoding[\"attention_mask\"])\n",
        "    return all_encodings\n",
        "\n",
        "train_encodings = batch_tokenize(X_train, batch_size=1000, max_length=128)\n",
        "val_encodings   = batch_tokenize(X_val, batch_size=1000, max_length=128)\n",
        "test_encodings  = batch_tokenize(X_test, batch_size=1000, max_length=128)\n"
      ]
    },
    {
      "cell_type": "code",
      "execution_count": null,
      "id": "8a46ac8e",
      "metadata": {
        "id": "8a46ac8e"
      },
      "outputs": [],
      "source": [
        "## Creating Custom Pytorch Dataset\n",
        "\n",
        "class SentimentDataset(torch.utils.data.Dataset):\n",
        "    def __init__(self,encodings,labels):\n",
        "        self.encodings = encodings\n",
        "        self.labels = labels\n",
        "    def __getitem__(self, idx):\n",
        "        # Convert lists to tensors\n",
        "        item = {key: torch.tensor(val[idx]) for key, val in self.encodings.items()}\n",
        "        item[\"labels\"] = torch.tensor(self.labels[idx])\n",
        "        return item\n",
        "\n",
        "    def __len__(self):\n",
        "        return len(self.labels)\n",
        "\n",
        "# Create datasets for training, validation, and testing\n",
        "train_dataset_pt = SentimentDataset(train_encodings, y_train)\n",
        "val_dataset_pt   = SentimentDataset(val_encodings, y_val)\n",
        "test_dataset_pt  = SentimentDataset(test_encodings, y_test)\n",
        "\n"
      ]
    },
    {
      "cell_type": "code",
      "execution_count": null,
      "id": "5649c7e7",
      "metadata": {
        "id": "5649c7e7",
        "outputId": "0d86ab4b-de92-42cc-95b4-925128781ab6"
      },
      "outputs": [
        {
          "name": "stderr",
          "output_type": "stream",
          "text": [
            "Some weights of BertForSequenceClassification were not initialized from the model checkpoint at /kaggle/input/bertbaseuncased/bert-base-uncased and are newly initialized: ['classifier.bias', 'classifier.weight']\n",
            "You should probably TRAIN this model on a down-stream task to be able to use it for predictions and inference.\n"
          ]
        }
      ],
      "source": [
        "## Initialize the Transformer Model\n",
        "# For binary classification, set num_labels=2.\n",
        "HGT_model = AutoModelForSequenceClassification.from_pretrained(local_model_path, num_labels=2)\n"
      ]
    },
    {
      "cell_type": "code",
      "execution_count": null,
      "id": "7e5deb32",
      "metadata": {
        "id": "7e5deb32"
      },
      "outputs": [],
      "source": [
        "def compute_metrics(eval_pred):\n",
        "    logits, labels = eval_pred\n",
        "    predictions = logits.argmax(-1)\n",
        "    return {\n",
        "        \"eval_accuracy\": accuracy_score(labels, predictions),\n",
        "        \"eval_precision\": precision_score(labels, predictions, pos_label=1),\n",
        "        \"eval_recall\": recall_score(labels, predictions, pos_label=1),\n",
        "        \"eval_f1\": f1_score(labels, predictions, average='macro')\n",
        "    }"
      ]
    },
    {
      "cell_type": "code",
      "execution_count": null,
      "id": "6cb47db1",
      "metadata": {
        "id": "6cb47db1"
      },
      "outputs": [],
      "source": [
        "## Set Up Training Arguments and Trainer\n",
        "training_args = TrainingArguments(\n",
        "    output_dir='./results',              # output directory\n",
        "    num_train_epochs=3,                  # total number of training epochs\n",
        "    per_device_train_batch_size=16,      # batch size per device during training\n",
        "    per_device_eval_batch_size=16,       # batch size for evaluation\n",
        "    evaluation_strategy=\"epoch\",         # evaluate each epoch\n",
        "    save_strategy=\"epoch\",               # save model checkpoint each epoch (matches evaluation_strategy)\n",
        "    logging_dir='./logs',                # directory for storing logs\n",
        "    logging_steps=10,\n",
        "    load_best_model_at_end=True,         # load the best model when finished training\n",
        "    report_to=[]\n",
        ")\n",
        "\n",
        "trainer = Trainer(\n",
        "    model=HGT_model,\n",
        "    args=training_args,\n",
        "    train_dataset=train_dataset_pt,\n",
        "    eval_dataset=val_dataset_pt,\n",
        "    compute_metrics=compute_metrics\n",
        ")"
      ]
    },
    {
      "cell_type": "code",
      "execution_count": null,
      "id": "3684a215",
      "metadata": {
        "id": "3684a215",
        "outputId": "133a835d-83f2-4c87-9a24-d4e6d8207496"
      },
      "outputs": [
        {
          "data": {
            "text/html": [
              "\n",
              "    <div>\n",
              "      \n",
              "      <progress value='189' max='189' style='width:300px; height:20px; vertical-align: middle;'></progress>\n",
              "      [189/189 31:13, Epoch 3/3]\n",
              "    </div>\n",
              "    <table border=\"1\" class=\"dataframe\">\n",
              "  <thead>\n",
              " <tr style=\"text-align: left;\">\n",
              "      <th>Epoch</th>\n",
              "      <th>Training Loss</th>\n",
              "      <th>Validation Loss</th>\n",
              "      <th>Accuracy</th>\n",
              "      <th>Precision</th>\n",
              "      <th>Recall</th>\n",
              "      <th>F1</th>\n",
              "    </tr>\n",
              "  </thead>\n",
              "  <tbody>\n",
              "    <tr>\n",
              "      <td>1</td>\n",
              "      <td>0.409300</td>\n",
              "      <td>0.440060</td>\n",
              "      <td>0.810000</td>\n",
              "      <td>0.745902</td>\n",
              "      <td>0.928571</td>\n",
              "      <td>0.808081</td>\n",
              "    </tr>\n",
              "    <tr>\n",
              "      <td>2</td>\n",
              "      <td>0.301400</td>\n",
              "      <td>0.428347</td>\n",
              "      <td>0.830000</td>\n",
              "      <td>0.790909</td>\n",
              "      <td>0.887755</td>\n",
              "      <td>0.829728</td>\n",
              "    </tr>\n",
              "    <tr>\n",
              "      <td>3</td>\n",
              "      <td>0.064700</td>\n",
              "      <td>0.559919</td>\n",
              "      <td>0.845000</td>\n",
              "      <td>0.845361</td>\n",
              "      <td>0.836735</td>\n",
              "      <td>0.844903</td>\n",
              "    </tr>\n",
              "  </tbody>\n",
              "</table><p>"
            ],
            "text/plain": [
              "<IPython.core.display.HTML object>"
            ]
          },
          "metadata": {},
          "output_type": "display_data"
        },
        {
          "data": {
            "text/plain": [
              "TrainOutput(global_step=189, training_loss=0.31857430020337385, metrics={'train_runtime': 1884.4026, 'train_samples_per_second': 1.592, 'train_steps_per_second': 0.1, 'total_flos': 197333291520000.0, 'train_loss': 0.31857430020337385, 'epoch': 3.0})"
            ]
          },
          "execution_count": 42,
          "metadata": {},
          "output_type": "execute_result"
        }
      ],
      "source": [
        "## Train the Model\n",
        "trainer.train()"
      ]
    },
    {
      "cell_type": "code",
      "execution_count": null,
      "id": "8b7c6ee9",
      "metadata": {
        "id": "8b7c6ee9",
        "outputId": "ccfd7a96-880e-49b0-8f7f-f1063b094cad"
      },
      "outputs": [
        {
          "data": {
            "text/html": [
              "\n",
              "    <div>\n",
              "      \n",
              "      <progress value='32' max='32' style='width:300px; height:20px; vertical-align: middle;'></progress>\n",
              "      [32/32 01:25]\n",
              "    </div>\n",
              "    "
            ],
            "text/plain": [
              "<IPython.core.display.HTML object>"
            ]
          },
          "metadata": {},
          "output_type": "display_data"
        },
        {
          "name": "stdout",
          "output_type": "stream",
          "text": [
            "Test evaluation: {'eval_accuracy': 0.85, 'eval_precision': 0.8243727598566308, 'eval_recall': 0.8984375, 'eval_f1': 0.8492613807657522, 'eval_loss': 0.39170041680336, 'eval_runtime': 93.4899, 'eval_samples_per_second': 5.348, 'eval_steps_per_second': 0.342, 'epoch': 3.0}\n",
            "Loss: 0.39170041680336\n",
            "Accuracy: 0.85\n",
            "Precision: 0.8243727598566308\n",
            "Recall: 0.8984375\n",
            "F1 Score: 0.8492613807657522\n"
          ]
        }
      ],
      "source": [
        "## Evaluate on the test set\n",
        "results = trainer.evaluate(eval_dataset=test_dataset_pt)\n",
        "print(\"Test evaluation:\", results)\n",
        "\n",
        "# Evaluation metrics:\n",
        "eval_loss = results.get(\"eval_loss\")\n",
        "eval_accuracy = results.get(\"eval_accuracy\")\n",
        "eval_precision = results.get(\"eval_precision\")\n",
        "eval_recall = results.get(\"eval_recall\")\n",
        "eval_f1 = results.get(\"eval_f1\")\n",
        "\n",
        "print(f\"Loss: {eval_loss}\")\n",
        "print(f\"Accuracy: {eval_accuracy}\")\n",
        "print(f\"Precision: {eval_precision}\")\n",
        "print(f\"Recall: {eval_recall}\")\n",
        "print(f\"F1 Score: {eval_f1}\")"
      ]
    }
  ],
  "metadata": {
    "colab": {
      "provenance": [],
      "include_colab_link": true
    },
    "kaggle": {
      "accelerator": "none",
      "dataSources": [
        {
          "datasetId": 1471698,
          "sourceId": 2431986,
          "sourceType": "datasetVersion"
        },
        {
          "datasetId": 6656905,
          "sourceId": 10736117,
          "sourceType": "datasetVersion"
        }
      ],
      "dockerImageVersionId": 30886,
      "isGpuEnabled": false,
      "isInternetEnabled": false,
      "language": "python",
      "sourceType": "notebook"
    },
    "kernelspec": {
      "display_name": "Python 3",
      "language": "python",
      "name": "python3"
    },
    "language_info": {
      "codemirror_mode": {
        "name": "ipython",
        "version": 3
      },
      "file_extension": ".py",
      "mimetype": "text/x-python",
      "name": "python",
      "nbconvert_exporter": "python",
      "pygments_lexer": "ipython3",
      "version": "3.10.12"
    },
    "papermill": {
      "default_parameters": {},
      "duration": 5915.183527,
      "end_time": "2025-02-20T21:21:35.493955",
      "environment_variables": {},
      "exception": null,
      "input_path": "__notebook__.ipynb",
      "output_path": "__notebook__.ipynb",
      "parameters": {},
      "start_time": "2025-02-20T19:43:00.310428",
      "version": "2.6.0"
    }
  },
  "nbformat": 4,
  "nbformat_minor": 5
}